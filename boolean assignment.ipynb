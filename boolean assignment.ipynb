{
 "cells": [
  {
   "cell_type": "markdown",
   "id": "b89f91d7",
   "metadata": {},
   "source": [
    "## Boolean assignment"
   ]
  },
  {
   "cell_type": "markdown",
   "id": "22959f07",
   "metadata": {},
   "source": [
    "#### Q.1 Declare a boolean value and store it in a variable.\n",
    "#### Check the type and print the id of the same."
   ]
  },
  {
   "cell_type": "code",
   "execution_count": 2,
   "id": "73202d5e",
   "metadata": {},
   "outputs": [
    {
     "name": "stdout",
     "output_type": "stream",
     "text": [
      "<class 'bool'>\n",
      "140725050681888\n"
     ]
    }
   ],
   "source": [
    "a=True\n",
    "print(type(a))\n",
    "print(id(a))\n"
   ]
  },
  {
   "cell_type": "markdown",
   "id": "89686b5c",
   "metadata": {},
   "source": [
    "#### Q.2Take one boolean value between 0 - 256.\n",
    "#### Assign it to two different variables.\n",
    "#### Check the id of both the variables. It should come the same. Check why?"
   ]
  },
  {
   "cell_type": "code",
   "execution_count": 13,
   "id": "d7e57991",
   "metadata": {},
   "outputs": [
    {
     "name": "stdout",
     "output_type": "stream",
     "text": [
      "140731711198440\n",
      "140731711198440\n"
     ]
    }
   ],
   "source": [
    "a=15\n",
    "b=15\n",
    "print(id(a))\n",
    "print(id(b))"
   ]
  },
  {
   "cell_type": "markdown",
   "id": "58e04a72",
   "metadata": {},
   "source": [
    " This means that when you assign the same boolean value between 0 and 256 to two different variables, their id values will typically be the same because both variables will refer to the same cached boolean object."
   ]
  },
  {
   "cell_type": "markdown",
   "id": "dcfcf746",
   "metadata": {},
   "source": [
    "### Q3. Arithmetic Operations on boolean data\n",
    "#### Take two different boolean values.\n",
    "#### Store them in two different variables.\n",
    "#### Do below operations on them:-\n",
    "#### Find sum of both values\n",
    "#### Find difference between them\n",
    "#### Find the product of both.\n",
    "#### Find value after dividing first value with second value\n",
    "#### Find the remainder after dividing first value with second value\n",
    "#### Find the quotient after dividing first value with second value\n",
    "#### Find the result of first value to the power of second value."
   ]
  },
  {
   "cell_type": "code",
   "execution_count": 22,
   "id": "8ee5b0b9",
   "metadata": {},
   "outputs": [
    {
     "name": "stdout",
     "output_type": "stream",
     "text": [
      "1\n",
      "1\n",
      "0\n",
      "0\n",
      "0\n",
      "0\n",
      "1\n"
     ]
    }
   ],
   "source": [
    "a=True #1\n",
    "b=False #0\n",
    "c=a/b if b else 0\n",
    "d=a%b if b else 0\n",
    "e=a//b if b else 0\n",
    "print(a+b)\n",
    "print(a-b)\n",
    "print(a*b)\n",
    "print(c)\n",
    "print(d)\n",
    "print(e)\n",
    "print(a**b)\n"
   ]
  },
  {
   "cell_type": "markdown",
   "id": "e2db73a7",
   "metadata": {},
   "source": [
    "### Q4 Comparison Operators on boolean values\n",
    "#### Take two different boolean values.\n",
    "#### Store them in two different variables.\n",
    "#### Do below operations on them:-\n",
    "#### Compare these two values with below operator:-\n",
    "#### Greater than, '>'\n",
    "#### less than, '<'\n",
    "#### Greater than or equal to, '>='\n",
    "#### Less than or equal to, '<='\n",
    "#### Observe their output(return type should be boolean)"
   ]
  },
  {
   "cell_type": "code",
   "execution_count": 23,
   "id": "1f34d990",
   "metadata": {},
   "outputs": [
    {
     "name": "stdout",
     "output_type": "stream",
     "text": [
      "True\n",
      "False\n",
      "True\n",
      "False\n"
     ]
    }
   ],
   "source": [
    "a=True\n",
    "b=False\n",
    "print(a>b)\n",
    "print(a<b)\n",
    "print(a>=b)\n",
    "print(a<=b)\n"
   ]
  },
  {
   "cell_type": "markdown",
   "id": "75658785",
   "metadata": {},
   "source": [
    "### Q 5 Equality Operator\n",
    "#### Take two different boolean values.\n",
    "#### Store them in two different variables.\n",
    "#### Equate them using equality operators (==, !=)\n",
    "#### Observe the output(return type should be boolean)"
   ]
  },
  {
   "cell_type": "code",
   "execution_count": 24,
   "id": "8c8431dd",
   "metadata": {},
   "outputs": [
    {
     "name": "stdout",
     "output_type": "stream",
     "text": [
      "False\n",
      "True\n"
     ]
    }
   ],
   "source": [
    "a=True\n",
    "b=False\n",
    "print(a==b)\n",
    "print(a!=b)"
   ]
  },
  {
   "cell_type": "markdown",
   "id": "9d553bf0",
   "metadata": {},
   "source": [
    "### Q6 Logical operators\n",
    "#### Observe the output of below code\n",
    "#### Cross check the output manually\n",
    "#### print(True and True)\n",
    "#### #----------------------------------------->Output is True\n",
    "\n",
    "#### print(False and True)\n",
    "#### #----------------------------------------->Output is False\n",
    "#### print(True and False)\n",
    "#### #----------------------------------------->Output is False\n",
    "#### print(False and False)\n",
    "#### #----------------------------------------->Output is False\n",
    "#### print(True or True)\n",
    "#### #----------------------------------------->Output is True\n",
    "#### print(False or True)\n",
    "#### #----------------------------------------->Output is True\n",
    "#### print(True or False)\n",
    "#### #----------------------------------------->Output is True\n",
    "#### print(False or False)\n",
    "#### #----------------------------------------->Output is False\n",
    "#### print(not True)\n",
    "#### #----------------------------------------->Output is False\n",
    "#### print(not False)\n",
    "#### #----------------------------------------->Output is True"
   ]
  },
  {
   "cell_type": "code",
   "execution_count": 25,
   "id": "553a95eb",
   "metadata": {},
   "outputs": [
    {
     "name": "stdout",
     "output_type": "stream",
     "text": [
      "True\n",
      "False\n",
      "False\n",
      "False\n",
      "True\n",
      "True\n",
      "True\n",
      "False\n",
      "False\n",
      "True\n"
     ]
    }
   ],
   "source": [
    "print(True and True)\n",
    "print(False and True)\n",
    "print(True and False)\n",
    "print(False and False)\n",
    "print(True or True)\n",
    "print(False or True)\n",
    "print(True or False)\n",
    "print(False or False)\n",
    "print(not True)\n",
    "print(not False)"
   ]
  },
  {
   "cell_type": "markdown",
   "id": "41318b37",
   "metadata": {},
   "source": [
    "### Q7. Bitwise Operators\n",
    "#### Do below operations on the values provided below:-\n",
    "#### Bitwise and(&) --------------> True, True -------> Output is True\n",
    "#### Bitwise or(|) --------------> True, False -------> Output is True\n",
    "#### Bitwise(^) --------------> True, False -------> Output is True\n",
    "#### Bitwise negation(~) ---------> True -------> Output is -2\n",
    "#### Bitwise left shift ---------> True,2 -------> Output is 4\n",
    "#### Bitwise right shift ---------> True,2 -------> Output is 0\n",
    "#### Cross check the output manually"
   ]
  },
  {
   "cell_type": "code",
   "execution_count": 31,
   "id": "38e97f21",
   "metadata": {},
   "outputs": [
    {
     "name": "stdout",
     "output_type": "stream",
     "text": [
      "True True True -2 4 0\n"
     ]
    }
   ],
   "source": [
    "a=True&True\n",
    "b=True|False\n",
    "c=True^False\n",
    "d=~True\n",
    "e=True<<2\n",
    "f=True>>2\n",
    "print(a,b,c,d,e,f)\n"
   ]
  },
  {
   "cell_type": "markdown",
   "id": "803c8e0b",
   "metadata": {},
   "source": [
    "### Q8 What is the output of expression inside the print statement. Cross\n",
    "#### check before running the program.\n",
    "#### a = True\n",
    "#### b = True\n",
    "#### print(a is b) #True or False? #\n",
    "\n",
    "#### print(a is not b) #True or False?\n",
    "#### a = False\n",
    "#### b = False\n",
    "#### print(a is b) #True or False?\n",
    "#### print(a is not b) #True or False?"
   ]
  },
  {
   "cell_type": "code",
   "execution_count": 32,
   "id": "1f2f22ec",
   "metadata": {},
   "outputs": [
    {
     "name": "stdout",
     "output_type": "stream",
     "text": [
      "True\n",
      "False\n"
     ]
    }
   ],
   "source": [
    "a = True\n",
    "b = True\n",
    "print(a is b)\n",
    "print(a is not b)"
   ]
  },
  {
   "cell_type": "code",
   "execution_count": 33,
   "id": "bfab16a2",
   "metadata": {},
   "outputs": [
    {
     "name": "stdout",
     "output_type": "stream",
     "text": [
      "True\n",
      "False\n"
     ]
    }
   ],
   "source": [
    "a = False\n",
    "b = False\n",
    "print(a is b)\n",
    "print(a is not b)"
   ]
  },
  {
   "cell_type": "markdown",
   "id": "1f179edc",
   "metadata": {},
   "source": [
    "### Q.9 Membership operation\n",
    "#### in, not in are two membership operators and it returns boolean value\n",
    "#### print(True in [10,10.20,10+20j,'Python', True])\n",
    "#### print(False in (10,10.20,10+20j,'Python', False))\n",
    "#### print(True in {1,2,3, True})\n",
    "#### print(True in {True:100, False:200, True:300})\n",
    "#### print(False in {True:100, False:200, True:300})"
   ]
  },
  {
   "cell_type": "code",
   "execution_count": 34,
   "id": "9ed21128",
   "metadata": {},
   "outputs": [
    {
     "name": "stdout",
     "output_type": "stream",
     "text": [
      "True\n",
      "True\n",
      "True\n",
      "True\n",
      "True\n"
     ]
    }
   ],
   "source": [
    "print(True in [10,10.20,10+20j,'Python', True])\n",
    "print(False in (10,10.20,10+20j,'Python', False))\n",
    "print(True in {1,2,3, True})\n",
    "print(True in {True:100, False:200, True:300})\n",
    "print(False in {True:100, False:200, True:300})"
   ]
  },
  {
   "cell_type": "code",
   "execution_count": null,
   "id": "c707cf7d",
   "metadata": {},
   "outputs": [],
   "source": []
  }
 ],
 "metadata": {
  "kernelspec": {
   "display_name": "Python 3 (ipykernel)",
   "language": "python",
   "name": "python3"
  },
  "language_info": {
   "codemirror_mode": {
    "name": "ipython",
    "version": 3
   },
   "file_extension": ".py",
   "mimetype": "text/x-python",
   "name": "python",
   "nbconvert_exporter": "python",
   "pygments_lexer": "ipython3",
   "version": "3.11.4"
  }
 },
 "nbformat": 4,
 "nbformat_minor": 5
}
