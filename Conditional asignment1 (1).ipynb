{
 "cells": [
  {
   "cell_type": "markdown",
   "id": "f3e4b399",
   "metadata": {},
   "source": [
    "### conditional assignment"
   ]
  },
  {
   "cell_type": "markdown",
   "id": "23be337b",
   "metadata": {},
   "source": [
    "### Q.1 Write a program (W. A P.) which takes one number from 0 to 9 from the user and prints\n",
    "### it in the word. And if the word is not from 0 to 9 then\n",
    "### it should print that number is outside of the range and program should\n",
    "### exit.\n",
    "\n",
    "### For exapmple:-\n",
    "### input = 1\n",
    "### output = one"
   ]
  },
  {
   "cell_type": "code",
   "execution_count": 1,
   "id": "95a365e1",
   "metadata": {},
   "outputs": [
    {
     "name": "stdout",
     "output_type": "stream",
     "text": [
      "Enter a number from 0 to 9: 5\n",
      "The word for 5 is five.\n"
     ]
    }
   ],
   "source": [
    "# Define a dictionary to map numbers to words\n",
    "number_words = {\n",
    "    0: \"zero\",\n",
    "    1: \"one\",\n",
    "    2: \"two\",\n",
    "    3: \"three\",\n",
    "    4: \"four\",\n",
    "    5: \"five\",\n",
    "    6: \"six\",\n",
    "    7: \"seven\",\n",
    "    8: \"eight\",\n",
    "    9: \"nine\"\n",
    "}\n",
    "\n",
    "# Get user input\n",
    "user_input = input(\"Enter a number from 0 to 9: \")\n",
    "\n",
    "# Check if the input is a digit and within the range 0-9\n",
    "if user_input.isdigit():\n",
    "    number = int(user_input)\n",
    "    if 0 <= number <= 9:\n",
    "        # Convert the number to its word representation\n",
    "        word = number_words[number]\n",
    "        print(f\"The word for {number} is {word}.\")\n",
    "    else:\n",
    "        print(\"Number is outside of the range (0 to 9).\")\n",
    "else:\n",
    "    print(\"Invalid input. Please enter a number from 0 to 9.\")\n"
   ]
  },
  {
   "cell_type": "markdown",
   "id": "b41498e9",
   "metadata": {},
   "source": [
    "### Q.2 W. A P. to implement calculator but the operation to be done and two\n",
    "### numbers will be taken as input from user:-\n",
    "### Operation console should show below:-\n",
    "### Please select any one operation from bel##ow:-\n",
    "###  * To add enter 1\n",
    "###  * to subtract enter 2\n",
    "###  * To multiply enter 3\n",
    "###  * To divide enter 4\n",
    "### * To divide and find quotient enter 5\n",
    "###  * To divide and find remainder enter 6\n",
    "###  * To divide and find num1 to the power of num2 enter 7\n"
   ]
  },
  {
   "cell_type": "code",
   "execution_count": 2,
   "id": "c9777d95",
   "metadata": {},
   "outputs": [
    {
     "name": "stdout",
     "output_type": "stream",
     "text": [
      "Enter the first number: 5\n",
      "Enter the second number: 8\n",
      "Please select any one operation from below:\n",
      "1. To add, enter 1\n",
      "2. To subtract, enter 2\n",
      "3. To multiply, enter 3\n",
      "4. To divide, enter 4\n",
      "5. To divide and find quotient, enter 5\n",
      "6. To divide and find remainder, enter 6\n",
      "7. To divide and find num1 to the power of num2, enter 7\n",
      "Enter the operation number: 3\n",
      "The result of multiplication is: 40.0\n"
     ]
    }
   ],
   "source": [
    "# Get two numbers from the user\n",
    "num1 = float(input(\"Enter the first number: \"))\n",
    "num2 = float(input(\"Enter the second number: \"))\n",
    "\n",
    "# Display the available operations\n",
    "print(\"Please select any one operation from below:\")\n",
    "print(\"1. To add, enter 1\")\n",
    "print(\"2. To subtract, enter 2\")\n",
    "print(\"3. To multiply, enter 3\")\n",
    "print(\"4. To divide, enter 4\")\n",
    "print(\"5. To divide and find quotient, enter 5\")\n",
    "print(\"6. To divide and find remainder, enter 6\")\n",
    "print(\"7. To divide and find num1 to the power of num2, enter 7\")\n",
    "\n",
    "# Get the user's choice of operation\n",
    "operation = int(input(\"Enter the operation number: \"))\n",
    "\n",
    "# Perform the selected operation\n",
    "if operation == 1:\n",
    "    result = num1 + num2\n",
    "    print(f\"The result of addition is: {result}\")\n",
    "elif operation == 2:\n",
    "    result = num1 - num2\n",
    "    print(f\"The result of subtraction is: {result}\")\n",
    "elif operation == 3:\n",
    "    result = num1 * num2\n",
    "    print(f\"The result of multiplication is: {result}\")\n",
    "elif operation == 4:\n",
    "    if num2 == 0:\n",
    "        print(\"Division by zero is not allowed.\")\n",
    "    else:\n",
    "        result = num1 / num2\n",
    "        print(f\"The result of division is: {result}\")\n",
    "elif operation == 5:\n",
    "    if num2 == 0:\n",
    "        print(\"Division by zero is not allowed.\")\n",
    "    else:\n",
    "        result = num1 // num2\n",
    "        print(f\"The quotient of division is: {result}\")\n",
    "elif operation == 6:\n",
    "    if num2 == 0:\n",
    "        print(\"Division by zero is not allowed.\")\n",
    "    else:\n",
    "        result = num1 % num2\n",
    "        print(f\"The remainder of division is: {result}\")\n",
    "elif operation == 7:\n",
    "    result = num1 ** num2\n",
    "    print(f\"{num1} to the power of {num2} is: {result}\")\n",
    "else:\n",
    "    print(\"Invalid operation number. Please choose a valid operation.\")\n"
   ]
  },
  {
   "cell_type": "markdown",
   "id": "b6b05721",
   "metadata": {},
   "source": [
    "### Q.3 W A P to check whether a year entered by user is an leap year or not?\n",
    "### Check with below input:-\n",
    "### leap year:- 2012, 1968, 2004, 1200, 1600,2400\n",
    "###  Non-lear year:- 1971, 2006, 1700,1800,1900"
   ]
  },
  {
   "cell_type": "code",
   "execution_count": 4,
   "id": "7183a988",
   "metadata": {},
   "outputs": [
    {
     "name": "stdout",
     "output_type": "stream",
     "text": [
      "Enter a year: 2006\n",
      "2006 is not a leap year.\n"
     ]
    }
   ],
   "source": [
    "# Get the year from the user\n",
    "year = int(input(\"Enter a year: \"))\n",
    "\n",
    "# Check if it's a leap year\n",
    "if (year % 4 == 0 and year % 100 != 0):\n",
    "    print(f\"{year} is a leap year.\")\n",
    "else:\n",
    "    print(f\"{year} is not a leap year.\")\n"
   ]
  },
  {
   "cell_type": "markdown",
   "id": "4397ea10",
   "metadata": {},
   "source": [
    "### Q.4 W A P which takes one number from the user and checks whether it is\n",
    "### an even or odd number?, If it even then prints number is\n",
    "### even number else prints that number is odd number.\n"
   ]
  },
  {
   "cell_type": "code",
   "execution_count": 5,
   "id": "a4892300",
   "metadata": {},
   "outputs": [
    {
     "name": "stdout",
     "output_type": "stream",
     "text": [
      "Enter a number: 3\n",
      "3 is an odd number.\n"
     ]
    }
   ],
   "source": [
    "# Get a number from the user\n",
    "number = int(input(\"Enter a number: \"))\n",
    "\n",
    "# Check if the number is even or odd\n",
    "if number % 2 == 0:\n",
    "    print(f\"{number} is an even number.\")\n",
    "else:\n",
    "    print(f\"{number} is an odd number.\")\n"
   ]
  },
  {
   "cell_type": "markdown",
   "id": "7d7fcfa7",
   "metadata": {},
   "source": [
    "### Q.5 W A P which takes two numbers from the user and prints below output:-\n",
    "###  1. num1 is greater than num2 if num1 is greater than num2\n",
    "###  2. num1 is smaller than num2 if num1 is smaller than num2\n",
    "###  3. num1 is equal to num2 if num1 and num2 are equal\n",
    "\n",
    "### Note:- 1. Do this problem using if - else\n",
    "###  2. Do this using ternary operator"
   ]
  },
  {
   "cell_type": "code",
   "execution_count": 6,
   "id": "30c998c9",
   "metadata": {},
   "outputs": [
    {
     "name": "stdout",
     "output_type": "stream",
     "text": [
      "Enter the first number: 8\n",
      "Enter the second number: 3\n",
      "num1 is greater than num2\n"
     ]
    }
   ],
   "source": [
    "# Get two numbers from the user\n",
    "num1 = float(input(\"Enter the first number: \"))\n",
    "num2 = float(input(\"Enter the second number: \"))\n",
    "\n",
    "if num1 > num2:\n",
    "    print(\"num1 is greater than num2\")\n",
    "elif num1 < num2:\n",
    "    print(\"num1 is smaller than num2\")\n",
    "else:\n",
    "    print(\"num1 is equal to num2\")\n"
   ]
  },
  {
   "cell_type": "code",
   "execution_count": 7,
   "id": "5dcf1d58",
   "metadata": {},
   "outputs": [
    {
     "name": "stdout",
     "output_type": "stream",
     "text": [
      "Enter the first number: 8\n",
      "Enter the second number: 3\n",
      "num1 is greater than num2\n"
     ]
    }
   ],
   "source": [
    "# Get two numbers from the user\n",
    "num1 = float(input(\"Enter the first number: \"))\n",
    "num2 = float(input(\"Enter the second number: \"))\n",
    "\n",
    "result = (\n",
    "    \"num1 is greater than num2\" if num1 > num2 else\n",
    "    \"num1 is smaller than num2\" if num1 < num2 else\n",
    "    \"num1 is equal to num2\"\n",
    ")\n",
    "\n",
    "print(result)\n"
   ]
  },
  {
   "cell_type": "markdown",
   "id": "4359c960",
   "metadata": {},
   "source": [
    "### Q.6 W A P which takes three numbers from the user and prints below\n",
    "### output:-\n",
    "###  1. num1 is greater than num2 and num3 if num1 is greater than num2\n",
    "### and num3\n",
    "###  2. num2 is greater than num1 and num3 if num2 is greater than num1\n",
    "### and num3\n",
    "###  3. num3 is greater than num1 and num2 if num3 is greater than num1\n",
    "### and num2\n",
    "\n",
    "### Note:- 1. Do this problem using if - elif - else\n",
    "###  2. Do this using ternary operator\n",
    "### a = a if a>b else b\n"
   ]
  },
  {
   "cell_type": "code",
   "execution_count": 8,
   "id": "416f87d5",
   "metadata": {},
   "outputs": [
    {
     "name": "stdout",
     "output_type": "stream",
     "text": [
      "Enter the first number: 6\n",
      "Enter the second number: 4\n",
      "Enter the third number: 7\n",
      "num3 is greater than num1 and num2\n"
     ]
    }
   ],
   "source": [
    "# Get three numbers from the user\n",
    "num1 = float(input(\"Enter the first number: \"))\n",
    "num2 = float(input(\"Enter the second number: \"))\n",
    "num3 = float(input(\"Enter the third number: \"))\n",
    "\n",
    "if num1 > num2 and num1 > num3:\n",
    "    print(\"num1 is greater than num2 and num3\")\n",
    "elif num2 > num1 and num2 > num3:\n",
    "    print(\"num2 is greater than num1 and num3\")\n",
    "elif num3 > num1 and num3 > num2:\n",
    "    print(\"num3 is greater than num1 and num2\")\n",
    "else:\n",
    "    print(\"There is no single number greater than both of the other two numbers.\")\n"
   ]
  },
  {
   "cell_type": "code",
   "execution_count": 9,
   "id": "43927f65",
   "metadata": {},
   "outputs": [
    {
     "name": "stdout",
     "output_type": "stream",
     "text": [
      "Enter the first number: 8\n",
      "Enter the second number: 3\n",
      "Enter the third number: 7\n",
      "num1 is greater than num2 and num3\n"
     ]
    }
   ],
   "source": [
    "# Get three numbers from the user\n",
    "num1 = float(input(\"Enter the first number: \"))\n",
    "num2 = float(input(\"Enter the second number: \"))\n",
    "num3 = float(input(\"Enter the third number: \"))\n",
    "\n",
    "result = (\n",
    "    \"num1 is greater than num2 and num3\" if num1 > num2 and num1 > num3 else\n",
    "    \"num2 is greater than num1 and num3\" if num2 > num1 and num2 > num3 else\n",
    "    \"num3 is greater than num1 and num2\" if num3 > num1 and num3 > num2 else\n",
    "    \"There is no single number greater than both of the other two numbers.\"\n",
    ")\n",
    "\n",
    "print(result)\n"
   ]
  },
  {
   "cell_type": "code",
   "execution_count": null,
   "id": "d5eaf035",
   "metadata": {},
   "outputs": [],
   "source": []
  }
 ],
 "metadata": {
  "kernelspec": {
   "display_name": "Python 3 (ipykernel)",
   "language": "python",
   "name": "python3"
  },
  "language_info": {
   "codemirror_mode": {
    "name": "ipython",
    "version": 3
   },
   "file_extension": ".py",
   "mimetype": "text/x-python",
   "name": "python",
   "nbconvert_exporter": "python",
   "pygments_lexer": "ipython3",
   "version": "3.11.4"
  }
 },
 "nbformat": 4,
 "nbformat_minor": 5
}
