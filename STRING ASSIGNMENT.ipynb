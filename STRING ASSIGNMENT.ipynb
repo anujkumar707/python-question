{
 "cells": [
  {
   "cell_type": "markdown",
   "id": "400a1b10",
   "metadata": {},
   "source": [
    "#Q1Declare a string and store it in a variable. \n",
    "\n",
    "\n",
    "\n",
    "#Check the type and print the id of the same.\n",
    "\n",
    "\n"
   ]
  },
  {
   "cell_type": "markdown",
   "id": "3efa492a",
   "metadata": {},
   "source": [
    "#Which are valid/invalid strings\n",
    "1. 'This is Python class'\n",
    "valid/invalid\n",
    "\n",
    "2. \"This is Python class\"\n",
    "valid/invalid\n",
    "\n",
    "3. '''This is Python class'''\n",
    "valid/invalid\n",
    "\n",
    "4. \"\"\"This is Python class\"\"\"\n",
    "valid/invalid\n",
    "\n",
    "5. 'This is Python's class'\n",
    "valid/invalid\n",
    "\n",
    "6. \"Learnbay provides \"Java\", \"Python\" classes\"\n",
    "valid/invalid\n",
    "\n",
    "7. \"Learnbay provides 'Java', 'Python' classes\"\n",
    "valid/invalid\n",
    "\n",
    "8. \"This is Python's class\"\n",
    "valid/invalid\n",
    "\n",
    "9. \"\"\"Learnbay provides \"Java\", \"Python\" classes\"\"\"\n",
    "valid/invalid\n",
    "\n",
    "10. '''Learnbay provides \"Java\", \"Python\" classes'''\n",
    "valid/invalid   #\n",
    "\n",
    "11. '''Learnbay provides\n",
    "\"Java\", \"Python\" \n",
    "classes'''\n",
    "valid/invalid\n",
    "\n",
    "12. 'This is\n",
    "Python \n",
    "class'\n",
    "valid/invalid\n",
    "\n"
   ]
  },
  {
   "cell_type": "code",
   "execution_count": 5,
   "id": "38ce745c",
   "metadata": {},
   "outputs": [
    {
     "name": "stdout",
     "output_type": "stream",
     "text": [
      "Type of my_string: <class 'str'>\n",
      "ID of my_string: 2726014059024\n"
     ]
    }
   ],
   "source": [
    "my_string = 'this is python class' \n",
    "print(\"Type of my_string:\", type(my_string))\n",
    "print(\"ID of my_string:\", id(my_string))"
   ]
  },
  {
   "cell_type": "code",
   "execution_count": 6,
   "id": "92ae3a21",
   "metadata": {},
   "outputs": [
    {
     "name": "stdout",
     "output_type": "stream",
     "text": [
      "Type of my_string: <class 'str'>\n",
      "ID of my_string: 2726014299040\n"
     ]
    }
   ],
   "source": [
    "my_string =\"This is Python class\" \n",
    "print(\"Type of my_string:\", type(my_string))\n",
    "print(\"ID of my_string:\", id(my_string))"
   ]
  },
  {
   "cell_type": "code",
   "execution_count": 7,
   "id": "c90a2ae0",
   "metadata": {},
   "outputs": [
    {
     "name": "stdout",
     "output_type": "stream",
     "text": [
      "Type of my_string: <class 'str'>\n",
      "ID of my_string: 2726014288080\n"
     ]
    }
   ],
   "source": [
    "my_string ='''This is Python class'''\n",
    "print(\"Type of my_string:\", type(my_string))\n",
    "print(\"ID of my_string:\", id(my_string))"
   ]
  },
  {
   "cell_type": "code",
   "execution_count": null,
   "id": "3b864320",
   "metadata": {},
   "outputs": [],
   "source": [
    "my_string = \"\"\"This is Python class\"\"\"\n",
    "print(\"Type of my_string:\", type(my_string))\n",
    "print(\"ID of my_string:\", id(my_string))"
   ]
  },
  {
   "cell_type": "code",
   "execution_count": 14,
   "id": "79460020",
   "metadata": {},
   "outputs": [
    {
     "ename": "SyntaxError",
     "evalue": "unterminated string literal (detected at line 1) (1978653139.py, line 1)",
     "output_type": "error",
     "traceback": [
      "\u001b[1;36m  Cell \u001b[1;32mIn[14], line 1\u001b[1;36m\u001b[0m\n\u001b[1;33m    my_string='This is Python's class'\u001b[0m\n\u001b[1;37m                                     ^\u001b[0m\n\u001b[1;31mSyntaxError\u001b[0m\u001b[1;31m:\u001b[0m unterminated string literal (detected at line 1)\n"
     ]
    }
   ],
   "source": [
    "my_string='This is Python's class'\n",
    "print(\"Type of my_string:\", type(my_string))\n",
    "print(\"ID of my_string:\", id(my_string))"
   ]
  },
  {
   "cell_type": "code",
   "execution_count": 13,
   "id": "3c245877",
   "metadata": {},
   "outputs": [
    {
     "ename": "SyntaxError",
     "evalue": "invalid syntax (3988160277.py, line 1)",
     "output_type": "error",
     "traceback": [
      "\u001b[1;36m  Cell \u001b[1;32mIn[13], line 1\u001b[1;36m\u001b[0m\n\u001b[1;33m    my_string =\"Learnbay provides \"Java\", \"Python\" classes\"\u001b[0m\n\u001b[1;37m                                   ^\u001b[0m\n\u001b[1;31mSyntaxError\u001b[0m\u001b[1;31m:\u001b[0m invalid syntax\n"
     ]
    }
   ],
   "source": [
    "my_string =\"Learnbay provides \"Java\", \"Python\" classes\"\n",
    "print(\"Type of my_string:\", type(my_string))\n",
    "print(\"ID of my_string:\", id(my_string))"
   ]
  },
  {
   "cell_type": "code",
   "execution_count": 15,
   "id": "13e5b59f",
   "metadata": {},
   "outputs": [
    {
     "name": "stdout",
     "output_type": "stream",
     "text": [
      "Type of my_string: <class 'str'>\n",
      "ID of my_string: 2726013894896\n"
     ]
    }
   ],
   "source": [
    "my_string = \"Learnbay provides 'Java', 'Python' classes\"\n",
    "print(\"Type of my_string:\", type(my_string))\n",
    "print(\"ID of my_string:\", id(my_string))"
   ]
  },
  {
   "cell_type": "code",
   "execution_count": 16,
   "id": "801448a8",
   "metadata": {},
   "outputs": [
    {
     "name": "stdout",
     "output_type": "stream",
     "text": [
      "Type of my_string: <class 'str'>\n",
      "ID of my_string: 2726015029040\n"
     ]
    }
   ],
   "source": [
    "my_string =\"This is Python's class\"\n",
    "print(\"Type of my_string:\", type(my_string))\n",
    "print(\"ID of my_string:\", id(my_string))"
   ]
  },
  {
   "cell_type": "code",
   "execution_count": 17,
   "id": "2c86763e",
   "metadata": {},
   "outputs": [
    {
     "name": "stdout",
     "output_type": "stream",
     "text": [
      "Type of my_string: <class 'str'>\n",
      "ID of my_string: 2726014945488\n"
     ]
    }
   ],
   "source": [
    "my_string =\"\"\"Learnbay provides \"Java\", \"Python\" classes\"\"\"\n",
    "print(\"Type of my_string:\", type(my_string))\n",
    "print(\"ID of my_string:\", id(my_string))"
   ]
  },
  {
   "cell_type": "code",
   "execution_count": 18,
   "id": "65c7bb0a",
   "metadata": {},
   "outputs": [
    {
     "name": "stdout",
     "output_type": "stream",
     "text": [
      "Type of my_string: <class 'str'>\n",
      "ID of my_string: 2726014196336\n"
     ]
    }
   ],
   "source": [
    "my_string = '''Learnbay provides \"Java\", \"Python\" classes'''\n",
    "print(\"Type of my_string:\", type(my_string))\n",
    "print(\"ID of my_string:\", id(my_string))"
   ]
  },
  {
   "cell_type": "code",
   "execution_count": 19,
   "id": "9f5e05a1",
   "metadata": {},
   "outputs": [
    {
     "name": "stdout",
     "output_type": "stream",
     "text": [
      "Type of my_string: <class 'str'>\n",
      "ID of my_string: 2726014946544\n"
     ]
    }
   ],
   "source": [
    "my_string ='''Learnbay provides\n",
    "\"Java\", \"Python\" \n",
    "classes'''\n",
    "print(\"Type of my_string:\", type(my_string))\n",
    "print(\"ID of my_string:\", id(my_string))"
   ]
  },
  {
   "cell_type": "code",
   "execution_count": 20,
   "id": "6909a077",
   "metadata": {},
   "outputs": [
    {
     "ename": "SyntaxError",
     "evalue": "unterminated string literal (detected at line 1) (2995296973.py, line 1)",
     "output_type": "error",
     "traceback": [
      "\u001b[1;36m  Cell \u001b[1;32mIn[20], line 1\u001b[1;36m\u001b[0m\n\u001b[1;33m    my_string ='This is\u001b[0m\n\u001b[1;37m               ^\u001b[0m\n\u001b[1;31mSyntaxError\u001b[0m\u001b[1;31m:\u001b[0m unterminated string literal (detected at line 1)\n"
     ]
    }
   ],
   "source": [
    "my_string ='This is\n",
    "Python \n",
    "class'\n",
    "my_string ='''Learnbay provides\n",
    "\"Java\", \"Python\" \n",
    "classes'''\n",
    "print(\"Type of my_string:\", type(my_string))\n",
    "print(\"ID of my_string:\", id(my_string))"
   ]
  },
  {
   "cell_type": "code",
   "execution_count": null,
   "id": "c57fe05f",
   "metadata": {},
   "outputs": [],
   "source": [
    "#Q2Write the code to get the output mentioned below print statement\n",
    "my_str = \"Although that way may not be obvious at first unless you're Dutch.\"\n",
    "my_str1 = \"Although that way may not be obvious at first unless you're Dutch.\"\n",
    "\n",
    "print()\n",
    "#output:- The length of my_str is 66\n",
    "\n",
    "print()\n",
    "#output:- id of my_str and my_str1 is same? - True\n",
    "\n",
    "print()\n",
    "#output:- Type of my_str is: str"
   ]
  },
  {
   "cell_type": "code",
   "execution_count": 21,
   "id": "df19083e",
   "metadata": {},
   "outputs": [
    {
     "name": "stdout",
     "output_type": "stream",
     "text": [
      "The length of my_str is 66\n",
      "id of my_str and my_str1 is same? - False\n",
      "Type of my_str is: str\n"
     ]
    }
   ],
   "source": [
    "my_str = \"Although that way may not be obvious at first unless you're Dutch.\"\n",
    "my_str1 = \"Although that way may not be obvious at first unless you're Dutch.\"\n",
    "\n",
    "# Output 1\n",
    "print(f\"The length of my_str is {len(my_str)}\")\n",
    "\n",
    "# Output 2\n",
    "print(f\"id of my_str and my_str1 is same? - {id(my_str) == id(my_str1)}\")\n",
    "\n",
    "# Output 3\n",
    "print(f\"Type of my_str is: {type(my_str).__name__}\")\n"
   ]
  },
  {
   "cell_type": "code",
   "execution_count": null,
   "id": "0ac788b0",
   "metadata": {},
   "outputs": [],
   "source": [
    "Q3#Indexing\n",
    "my_str = \"Although 8 that way may not be obvious at first unless you're Dutch\"\n",
    "#Write the code to get the output,instructions are mentioned below print statement. use indexing\n",
    "\n",
    "print()\n",
    "#output:- The first character in my_str is: A\n",
    "#Note:- Use positive indexing\n",
    "\n",
    "print()\n",
    "#output:- The first character in my_str is: A\n",
    "#Note:- Use len() function.\n",
    "\n",
    "print()\n",
    "#output:- The character at index 10 in my_str is: ' '\n",
    "#Note:- Use positive indexing\n",
    "\n",
    "print()\n",
    "#output:- The last character in my_str is: h\n",
    "#Note:- Use negative indexing.\n",
    "\n",
    "print()\n",
    "#output:- The last character in my_str is: h\n",
    "#Note:- Use len() function.\n",
    "\n",
    "print()\n",
    "#output:-  ite\n",
    "#Note:- Use positive index"
   ]
  },
  {
   "cell_type": "code",
   "execution_count": 22,
   "id": "1ba40f13",
   "metadata": {},
   "outputs": [
    {
     "name": "stdout",
     "output_type": "stream",
     "text": [
      "The first character in my_str is: A\n",
      "The first character in my_str is: A\n",
      "The character at index 10 in my_str is: ' '\n",
      "The last character in my_str is: h\n",
      "The last character in my_str is: h\n",
      " ma\n"
     ]
    }
   ],
   "source": [
    "my_str = \"Although 8 that way may not be obvious at first unless you're Dutch\"\n",
    "\n",
    "# Output 1\n",
    "print(f\"The first character in my_str is: {my_str[0]}\")\n",
    "# Output 2\n",
    "print(f\"The first character in my_str is: {my_str[0]}\")\n",
    "# Output 3\n",
    "print(f\"The character at index 10 in my_str is: '{my_str[10]}'\")\n",
    "# Output 4\n",
    "print(f\"The last character in my_str is: {my_str[-1]}\")\n",
    "# Output 5\n",
    "print(f\"The last character in my_str is: {my_str[len(my_str)-1]}\")\n",
    "# Output 6\n",
    "print(my_str[19:22])\n"
   ]
  },
  {
   "cell_type": "code",
   "execution_count": null,
   "id": "cf10b1f7",
   "metadata": {},
   "outputs": [],
   "source": [
    "Q4#Slicing\n",
    "my_str = \"Although that way may not be obvious at first unless you're Dutch.\"\n",
    "#Write the code to get the output,instructions are mentioned below print statement.\n",
    "# use slicing\n",
    "print()\n",
    "#output:- You have sliced: Although that way may not be obvious at first unless you're Dutch.Without begin, end and step\n",
    "\n",
    "\n",
    "print()\n",
    "#output:- You have sliced: Although that way may not be obvious at first unless you're Dutch.with begin as 0 end using len and without step\n",
    "\n",
    "\n",
    "print()\n",
    "#output:- You have sliced: Although that way may not be obvious at first unless you're Dutch.without begin and end but using step\n",
    "\n",
    "\n",
    "print()\n",
    "#output:- You have sliced: Although that way may not be obvious at first unless you're Dutch.With begin, end and step\n",
    "\n",
    "\n",
    "print()\n",
    "#output:- You have sliced:   .with using begin and end using postive values and step as negative values.\n",
    "#Slicing command should print empty string.\n",
    "\n",
    "\n",
    "print()\n",
    "#output:- You have sliced: Atog htwymyntb biu tfrtuls o'eDth\n",
    "\n",
    "\n",
    "print()\n",
    "#output:- You have sliced: Ahgttam tebo  r lsorDc\n",
    "\n",
    "\n",
    "print()\n",
    "#output:- You have sliced: .hctuD er'uoy sselnu tsrif ta suoivbo eb ton yam yaw taht hguohtlA. Use only step\n",
    "\n",
    "\n",
    "print()\n",
    "#output:- You have sliced: .hctuD er'uoy sselnu tsrif ta suoivbo eb ton yam yaw taht hguohtlA. Use begin end and step.\n",
    "\n",
    "\n",
    "print()\n",
    "#output:- You have sliced: .cu ruysen si asovoe o a a athuhl. use only step\n",
    "\n",
    "\n",
    "print()\n",
    "#output:- You have sliced: .cu ruysen si asovoe o a a athuhl. use begin, end and step.\n",
    "\n",
    "\n",
    "print(my_str[10:17:-1])\n",
    "#What will be the output?\n",
    "\n",
    "\n",
    "print()\n",
    "#output:- You have sliced: yaw ta, Using begin, end and step.\n",
    "\n",
    "print()\n",
    "#output:- You have sliced: ess you. Using begin, end and step.\n"
   ]
  },
  {
   "cell_type": "code",
   "execution_count": 23,
   "id": "96ee129c",
   "metadata": {},
   "outputs": [
    {
     "name": "stdout",
     "output_type": "stream",
     "text": [
      "You have sliced: Although that way may not be obvious at first unless you're Dutch.\n",
      "You have sliced: Although that way may not be obvious at first unless you're Dutch.\n",
      "You have sliced: Although that way may not be obvious at first unless you're Dutch.\n",
      "You have sliced: Although that way may not be obvious at first unless you're Dutch.\n",
      "You have sliced: \n",
      "You have sliced: Atog htwymyntb biu tfrtuls o'eDth\n",
      "You have sliced: lhuhta a a o eovosa is nesyur uc.\n",
      "You have sliced: .hctuD er'uoy sselnu tsrif ta suoivbo eb ton yam yaw taht hguohtlA\n",
      "You have sliced: Although that way may not be obvious at first unless you're Dutch.\n",
      "yaw ta\n",
      "You have sliced:  yaw ta\n",
      "You have sliced: ctuD e\n"
     ]
    }
   ],
   "source": [
    "my_str = \"Although that way may not be obvious at first unless you're Dutch.\"\n",
    "\n",
    "# Output 1\n",
    "print(f\"You have sliced: {my_str[:]}\")\n",
    "\n",
    "# Output 2\n",
    "print(f\"You have sliced: {my_str[0:len(my_str)]}\")\n",
    "\n",
    "# Output 3\n",
    "print(f\"You have sliced: {my_str[::]}\")\n",
    "\n",
    "# Output 4\n",
    "print(f\"You have sliced: {my_str[0:len(my_str):1]}\")\n",
    "\n",
    "# Output 5\n",
    "print(f\"You have sliced: {my_str[66:66:-1]}\")\n",
    "\n",
    "# Output 6\n",
    "print(f\"You have sliced: {my_str[0:66:2]}\")\n",
    "\n",
    "# Output 7\n",
    "print(f\"You have sliced: {my_str[1:66:2]}\")\n",
    "\n",
    "# Output 8\n",
    "print(f\"You have sliced: {my_str[::-1]}\")\n",
    "\n",
    "# Output 9\n",
    "print(f\"You have sliced: {my_str[::-1][::-1]}\")\n",
    "\n",
    "# Output 10\n",
    "print(my_str[16:10:-1])\n",
    "\n",
    "# Output 11\n",
    "print(f\"You have sliced: {my_str[17:10:-1]}\")\n",
    "\n",
    "# Output 12\n",
    "print(f\"You have sliced: {my_str[63:57:-1]}\")\n"
   ]
  },
  {
   "cell_type": "code",
   "execution_count": null,
   "id": "154dae70",
   "metadata": {},
   "outputs": [],
   "source": [
    "Q5#Basic operation on string\n",
    "str1 = 'Learnbay'\n",
    "str2 = 'Python'\n",
    "\n",
    "#Write the code to get the output,instructions are mentioned below.\n",
    "#Output is: Learnbay Python\n",
    "\n",
    "\n",
    "#Error: TypeError: can only concatenate str (not \"int\") to str\n",
    "\n",
    "\n",
    "#Error: TypeError: can only concatenate str (not \"float\") to str\n",
    "\n",
    "\n",
    "\n",
    "#Find below Output\n",
    "#Output is: LearnbayLearnbayLearnbay\n",
    "\n",
    "\n",
    "#Error: TypeError: can't multiply sequence by non-int of type 'float'\n",
    "\n",
    "\n",
    "#Error: TypeError: can't multiply sequence by non-int of type 'str'\n",
    "\n"
   ]
  },
  {
   "cell_type": "code",
   "execution_count": 24,
   "id": "ebfdb860",
   "metadata": {},
   "outputs": [
    {
     "name": "stdout",
     "output_type": "stream",
     "text": [
      "Learnbay Python\n",
      "Error: can only concatenate str (not \"int\") to str\n",
      "Error: can only concatenate str (not \"float\") to str\n",
      "LearnbayLearnbayLearnbay\n",
      "Error: can't multiply sequence by non-int of type 'float'\n",
      "Error: can't multiply sequence by non-int of type 'str'\n"
     ]
    }
   ],
   "source": [
    "str1 = 'Learnbay'\n",
    "str2 = 'Python'\n",
    "\n",
    "# Concatenate str1 and str2 with a space in between\n",
    "result = str1 + ' ' + str2\n",
    "print(result)  # Output is: Learnbay Python\n",
    "\n",
    "# Attempting to concatenate with an int\n",
    "try:\n",
    "    result = str1 + 5\n",
    "except TypeError as e:\n",
    "    print(f\"Error: {e}\")  # Output is: Error: can only concatenate str (not 'int') to str\n",
    "\n",
    "# Attempting to concatenate with a float\n",
    "try:\n",
    "    result = str1 + 3.5\n",
    "except TypeError as e:\n",
    "    print(f\"Error: {e}\")  # Output is: Error: can only concatenate str (not 'float') to str\n",
    "\n",
    "# Multiply str1 by 3\n",
    "result = str1 * 3\n",
    "print(result)  # Output is: LearnbayLearnbayLearnbay\n",
    "\n",
    "# Attempting to multiply by a float\n",
    "try:\n",
    "    result = str1 * 2.5\n",
    "except TypeError as e:\n",
    "    print(f\"Error: {e}\")  # Output is: Error: can't multiply sequence by non-int of type 'float'\n",
    "\n",
    "# Attempting to multiply by a string\n",
    "try:\n",
    "    result = str1 * '2'\n",
    "except TypeError as e:\n",
    "    print(f\"Error: {e}\")  # Output is: Error: can't multiply sequence by non-int of type 'str'\n"
   ]
  },
  {
   "cell_type": "code",
   "execution_count": null,
   "id": "60d62e63",
   "metadata": {},
   "outputs": [],
   "source": [
    "Q6#Find below Output\n",
    "str1 = 'Python'\n",
    "str2 = 'Python'\n",
    "str3 = 'Python$'\n",
    "str4 = 'Python$'\n",
    "\n",
    "#print True by using identity operator between str1 and str2\n",
    "\n",
    "\n",
    "#print False by using identity operator between str1 and str3\n",
    "\n",
    "\n",
    "#print False by using identity operator between str4 and str3\n",
    "\n",
    "\n",
    "#Check if P is available in str1 and print True by using membership operator\n",
    "\n",
    "\n",
    "#Check if $ is available in str3 and print True by using membership operator\n",
    "\n",
    "\n",
    "#Check if N is available in str3 and print False by using membership operator\n"
   ]
  },
  {
   "cell_type": "code",
   "execution_count": 25,
   "id": "d277e38b",
   "metadata": {},
   "outputs": [
    {
     "name": "stdout",
     "output_type": "stream",
     "text": [
      "True\n",
      "False\n",
      "False\n",
      "True\n",
      "True\n",
      "False\n"
     ]
    }
   ],
   "source": [
    "str1 = 'Python'\n",
    "str2 = 'Python'\n",
    "str3 = 'Python$'\n",
    "str4 = 'Python$'\n",
    "\n",
    "# Check if str1 and str2 have the same identity\n",
    "print(str1 is str2)  # Output: True\n",
    "\n",
    "# Check if str1 and str3 have the same identity\n",
    "print(str1 is str3)  # Output: False\n",
    "\n",
    "# Check if str4 and str3 have the same identity\n",
    "print(str4 is str3)  # Output: False\n",
    "\n",
    "# Check if 'P' is in str1\n",
    "print('P' in str1)  # Output: True\n",
    "\n",
    "# Check if '$' is in str3\n",
    "print('$' in str3)  # Output: True\n",
    "\n",
    "# Check if 'N' is in str3\n",
    "print('N' in str3)  # Output: False\n"
   ]
  },
  {
   "cell_type": "code",
   "execution_count": null,
   "id": "ae2d6298",
   "metadata": {},
   "outputs": [],
   "source": [
    "Q7#Complete the below code\n",
    "str1 = 'This is Python class'\n",
    "#write the code to replace 'Python' with 'Java' and you should get below error.\n",
    "#TypeError: 'str' object does not support item assignment.\n",
    "\n",
    "\n"
   ]
  },
  {
   "cell_type": "code",
   "execution_count": 26,
   "id": "477b5876",
   "metadata": {},
   "outputs": [
    {
     "name": "stdout",
     "output_type": "stream",
     "text": [
      "This is Java class\n"
     ]
    }
   ],
   "source": [
    "str1 = 'This is Python class'\n",
    "str2 = str1.replace('Python', 'Java')\n",
    "print(str2)\n"
   ]
  },
  {
   "cell_type": "code",
   "execution_count": null,
   "id": "62e0f060",
   "metadata": {},
   "outputs": [],
   "source": [
    "Q8str1 = 'A'\n",
    "str2 = 'A'\n",
    "#Compare str1 and str2 and print True using comparison operator\n",
    "\n",
    "\n",
    "#Compare str1 and str2 and print True using equality operator\n",
    "\n",
    "\n",
    "#Compare str1 and str2 and print False using equality operator\n",
    "\n",
    "\n",
    "#Compare str1 and str2 and print False using comparison operator\n"
   ]
  },
  {
   "cell_type": "code",
   "execution_count": 27,
   "id": "662cb488",
   "metadata": {},
   "outputs": [
    {
     "name": "stdout",
     "output_type": "stream",
     "text": [
      "True\n",
      "True\n",
      "False\n",
      "False\n"
     ]
    }
   ],
   "source": [
    "str1 = 'A'\n",
    "str2 = 'A'\n",
    "\n",
    "# Compare str1 and str2 using comparison (identity) operator\n",
    "print(str1 is str2)  # Output: True\n",
    "\n",
    "# Compare str1 and str2 using equality operator\n",
    "print(str1 == str2)  # Output: True\n",
    "\n",
    "# Compare str1 and str2 using equality operator for inequality\n",
    "print(str1 != str2)  # Output: False\n",
    "\n",
    "# Compare str1 and str2 using comparison (identity) operator for inequality\n",
    "print(str1 is not str2)  # Output: False\n"
   ]
  },
  {
   "cell_type": "code",
   "execution_count": null,
   "id": "5689154a",
   "metadata": {},
   "outputs": [],
   "source": [
    "Q9str1 = 'A'\n",
    "str2 = 'a'\n",
    "#Compare str1 and str2 and print True using comparison operator\n",
    "\n",
    "\n",
    "#Compare str1 and str2 and print True using equality operator\n",
    "\n",
    "\n",
    "#Compare str1 and str2 and print False using equality operator\n",
    "\n",
    "\n",
    "#Compare str1 and str2 and print False using comparison operator\n",
    "\n"
   ]
  },
  {
   "cell_type": "code",
   "execution_count": 28,
   "id": "0a924a40",
   "metadata": {},
   "outputs": [
    {
     "name": "stdout",
     "output_type": "stream",
     "text": [
      "False\n",
      "False\n",
      "True\n",
      "True\n"
     ]
    }
   ],
   "source": [
    "str1 = 'A'\n",
    "str2 = 'a'\n",
    "\n",
    "# Compare str1 and str2 using comparison (identity) operator\n",
    "print(str1 is str2)  # Output: False\n",
    "\n",
    "# Compare str1 and str2 using equality operator (case-sensitive)\n",
    "print(str1 == str2)  # Output: False\n",
    "\n",
    "# Compare str1 and str2 using equality operator for inequality (case-sensitive)\n",
    "print(str1 != str2)  # Output: True\n",
    "\n",
    "# Compare str1 and str2 using comparison (identity) operator for inequality\n",
    "print(str1 is not str2)  # Output: True\n"
   ]
  },
  {
   "cell_type": "code",
   "execution_count": null,
   "id": "5f5fd081",
   "metadata": {},
   "outputs": [],
   "source": [
    "Q10str1 = 'A'\n",
    "str2 = '65'\n",
    "#Compare str1 and str2 using comparison operator and it should give below error.\n",
    "#Error: TypeError: '>=' not supported between instances of 'str' and 'int'\n",
    "\n",
    "#Compare str1 and str2 and print True using equality operator\n",
    "\n",
    "\n",
    "#Compare str1 and str2 and print False using equality operator\n",
    "\n"
   ]
  },
  {
   "cell_type": "code",
   "execution_count": 29,
   "id": "ced48ebe",
   "metadata": {},
   "outputs": [
    {
     "name": "stdout",
     "output_type": "stream",
     "text": [
      "False\n",
      "True\n"
     ]
    }
   ],
   "source": [
    "str1 = 'A'\n",
    "str2 = '65'\n",
    "\n",
    "# Compare str1 and str2 using equality operator\n",
    "print(str1 == str2)  # Output: False\n",
    "\n",
    "# Compare str1 and str2 using equality operator for equality\n",
    "print(str1 != str2)  # Output: True\n"
   ]
  },
  {
   "cell_type": "code",
   "execution_count": null,
   "id": "e418053e",
   "metadata": {},
   "outputs": [],
   "source": [
    "Q11str1 = 'Python'\n",
    "str2 = 'Python'\n",
    "#Compare str1 and str2 and print True using comparison operator\n",
    "\n",
    "\n",
    "#Compare str1 and str2 and print True using equality operator\n",
    "\n",
    "\n",
    "#Compare str1 and str2 and print False using equality operator\n",
    "\n",
    "\n",
    "#Compare str1 and str2 and print False using comparison operator\n",
    "\n"
   ]
  },
  {
   "cell_type": "code",
   "execution_count": 30,
   "id": "0210829b",
   "metadata": {},
   "outputs": [
    {
     "name": "stdout",
     "output_type": "stream",
     "text": [
      "False\n",
      "False\n",
      "True\n",
      "True\n"
     ]
    }
   ],
   "source": [
    "result1 = str1 < str2\n",
    "result2 = str1 <= str2\n",
    "result3 = str1 > str2\n",
    "result4 = str1 >= str2\n",
    "\n",
    "# Print the results\n",
    "print(result1)  # False\n",
    "print(result2)  # True\n",
    "print(result3)  # False\n",
    "print(result4)  # True\n"
   ]
  },
  {
   "cell_type": "code",
   "execution_count": 31,
   "id": "acb4d387",
   "metadata": {},
   "outputs": [
    {
     "name": "stdout",
     "output_type": "stream",
     "text": [
      "False\n",
      "True\n"
     ]
    }
   ],
   "source": [
    "result5 = str1 == str2\n",
    "result6 = str1 != str2\n",
    "\n",
    "# Print the results\n",
    "print(result5)  # True\n",
    "print(result6)  # False\n"
   ]
  },
  {
   "cell_type": "code",
   "execution_count": null,
   "id": "54d9039b",
   "metadata": {},
   "outputs": [],
   "source": [
    "Q12str1 = 'Python'\n",
    "str2 = 'python'\n",
    "#Compare str1 and str2 and print True using comparison operator\n",
    "\n",
    "\n",
    "#Compare str1 and str2 and print True using equality operator\n",
    "\n",
    "\n",
    "#Compare str1 and str2 and print False using equality operator\n",
    "\n",
    "\n",
    "#Compare str1 and str2 and print False using comparison operator\n",
    "\n"
   ]
  },
  {
   "cell_type": "code",
   "execution_count": 32,
   "id": "9e3d9b86",
   "metadata": {},
   "outputs": [
    {
     "name": "stdout",
     "output_type": "stream",
     "text": [
      "False\n",
      "False\n",
      "True\n",
      "True\n"
     ]
    }
   ],
   "source": [
    "result1 = str1 < str2  # 'P' < 'p' (compare their Unicode code points)\n",
    "result2 = str1 <= str2  # 'P' < 'p'\n",
    "result3 = str1 > str2  # 'P' > 'p'\n",
    "result4 = str1 >= str2  # 'P' > 'p'\n",
    "\n",
    "# Print the results\n",
    "print(result1)  # True\n",
    "print(result2)  # True\n",
    "print(result3)  # False\n",
    "print(result4)  # False\n"
   ]
  },
  {
   "cell_type": "code",
   "execution_count": 33,
   "id": "41160527",
   "metadata": {},
   "outputs": [
    {
     "name": "stdout",
     "output_type": "stream",
     "text": [
      "False\n",
      "True\n"
     ]
    }
   ],
   "source": [
    "result5 = str1 == str2  # 'Python' is not equal to 'python'\n",
    "result6 = str1 != str2  # 'Python' is not equal to 'python'\n",
    "\n",
    "# Print the results\n",
    "print(result5)  # False\n",
    "print(result6)  # True\n"
   ]
  },
  {
   "cell_type": "code",
   "execution_count": null,
   "id": "cf90fa08",
   "metadata": {},
   "outputs": [],
   "source": [
    "Q13a = 'Python'\n",
    "b = ''\n",
    "\n",
    "#Apply logical opereators (and, or & not) on above string values and observe the output.\n",
    "print()\n",
    "print()\n",
    "print()\n",
    "print()\n",
    "print()"
   ]
  },
  {
   "cell_type": "code",
   "execution_count": 34,
   "id": "9677804e",
   "metadata": {},
   "outputs": [
    {
     "name": "stdout",
     "output_type": "stream",
     "text": [
      "\n",
      "Python\n",
      "False\n",
      "True\n"
     ]
    }
   ],
   "source": [
    "a = 'Python'\n",
    "b = ''\n",
    "\n",
    "# Using logical operators\n",
    "result1 = a and b  # 'a' is truthy, but 'b' is an empty string, so it returns 'b'\n",
    "result2 = a or b   # 'a' is truthy, so it returns 'a' without evaluating 'b'\n",
    "result3 = not a    # 'a' is truthy, so 'not a' is False\n",
    "result4 = not b    # 'b' is falsy, so 'not b' is True\n",
    "\n",
    "# Print the results\n",
    "print(result1)  # ''\n",
    "print(result2)  # 'Python'\n",
    "print(result3)  # False\n",
    "print(result4)  # True\n"
   ]
  },
  {
   "cell_type": "code",
   "execution_count": null,
   "id": "f3cd85b9",
   "metadata": {},
   "outputs": [],
   "source": [
    "Q14a = ''\n",
    "b = ''\n",
    "\n",
    "#Apply logical opereators (and, or & not) on above string values and observe the output.\n",
    "print()\n",
    "print()\n",
    "print()"
   ]
  },
  {
   "cell_type": "code",
   "execution_count": 35,
   "id": "5fce61f8",
   "metadata": {},
   "outputs": [
    {
     "name": "stdout",
     "output_type": "stream",
     "text": [
      "\n",
      "\n",
      "True\n",
      "True\n"
     ]
    }
   ],
   "source": [
    "a = ''\n",
    "b = ''\n",
    "\n",
    "# Using logical operators\n",
    "result1 = a and b  # 'a' is falsy, so it returns 'a' without evaluating 'b'\n",
    "result2 = a or b   # 'a' is falsy, but 'b' is also falsy, so it returns 'a'\n",
    "result3 = not a    # 'a' is falsy, so 'not a' is True\n",
    "result4 = not b    # 'b' is falsy, so 'not b' is True\n",
    "\n",
    "# Print the results\n",
    "print(result1)  # ''\n",
    "print(result2)  # ''\n",
    "print(result3)  # True\n",
    "print(result4)  # True\n"
   ]
  },
  {
   "cell_type": "code",
   "execution_count": null,
   "id": "30dff36a",
   "metadata": {},
   "outputs": [],
   "source": [
    "Q15a = 'Python'\n",
    "b = 'learnbay'\n",
    "\n",
    "#Apply logical opereators (and, or & not) on above string values and observe the output.\n",
    "print()\n",
    "print()\n",
    "print()"
   ]
  },
  {
   "cell_type": "code",
   "execution_count": 36,
   "id": "7a1af84b",
   "metadata": {
    "scrolled": true
   },
   "outputs": [
    {
     "name": "stdout",
     "output_type": "stream",
     "text": [
      "learnbay\n",
      "Python\n",
      "False\n",
      "False\n"
     ]
    }
   ],
   "source": [
    "a = 'Python'\n",
    "b = 'learnbay'\n",
    "\n",
    "# Using logical operators\n",
    "result1 = a and b  # Both 'a' and 'b' are truthy, so it returns 'b'\n",
    "result2 = a or b   # 'a' is truthy, so it returns 'a' without evaluating 'b'\n",
    "result3 = not a    # 'a' is truthy, so 'not a' is False\n",
    "result4 = not b    # 'b' is truthy, so 'not b' is False\n",
    "\n",
    "# Print the results\n",
    "print(result1)  # 'learnbay'\n",
    "print(result2)  # 'Python'\n",
    "print(result3)  # False\n",
    "print(result4)  # False\n"
   ]
  },
  {
   "cell_type": "code",
   "execution_count": null,
   "id": "76ee46f2",
   "metadata": {},
   "outputs": [],
   "source": [
    "Q16my_str = \"Although 8 that way may not be obvious at first unless you're Dutch\"\n",
    "\n",
    "#Write the code to get the total count of 't' in above string. Use:\n",
    "# 1. find() method\n",
    "# 2. index() method [This is optional]\n",
    "print()\n",
    "print()\n",
    "\n",
    "#Write the code to get the index of '8' in my_str. Use find() and index() method.\n",
    "print()\n",
    "print()\n",
    "\n",
    "#What will be the output of below code?\n",
    "print(my_str.find('the'))\n",
    "\n",
    "\n",
    "print(my_str.index('the'))\n",
    "\n",
    "\n",
    "print(my_str.find('t', 9, 15))\n",
    "\n",
    "\n",
    "print(my_str.rfind('u'))\n",
    "\n",
    "\n",
    "print(my_str.rindex('u'))\n",
    "\n"
   ]
  },
  {
   "cell_type": "code",
   "execution_count": 37,
   "id": "9fa5a3df",
   "metadata": {},
   "outputs": [
    {
     "name": "stdout",
     "output_type": "stream",
     "text": [
      "Count of 't' using find(): 7\n",
      "Index of '8' using find(): 9\n",
      "-1\n",
      "11\n",
      "63\n"
     ]
    }
   ],
   "source": [
    "my_str = \"Although 8 that way may not be obvious at first unless you're Dutch\"\n",
    "\n",
    "# Count of 't' using find() method\n",
    "count_t_find = my_str.count('t')\n",
    "\n",
    "# Count of 't' using index() method (optional)\n",
    "# Since you asked for find() primarily, we won't use index()\n",
    "# count_t_index = my_str.count('t')\n",
    "\n",
    "# Get the index of '8' using find() and index() methods\n",
    "index_8_find = my_str.find('8')\n",
    "# index_8_index = my_str.index('8')  # Uncomment this line if you want to use index() method\n",
    "\n",
    "# Output the results\n",
    "print(\"Count of 't' using find():\", count_t_find)\n",
    "# If you want to use index(), uncomment the following line:\n",
    "# print(\"Count of 't' using index():\", count_t_index)\n",
    "print(\"Index of '8' using find():\", index_8_find)\n",
    "# If you want to use index(), uncomment the following line:\n",
    "# print(\"Index of '8' using index():\", index_8_index)\n",
    "\n",
    "# What will be the output of the code you provided?\n",
    "# The code will print the results of various find() and rfind() methods.\n",
    "\n",
    "print(my_str.find('the'))            # Output: -1 (not found)\n",
    "# print(my_str.index('the'))         # Raises a ValueError since 'the' is not found\n",
    "\n",
    "print(my_str.find('t', 9, 15))       # Output: 11 (index of 't' in the substring 'that')\n",
    "# print(my_str.index('t', 9, 15))    # Raises a ValueError since 't' is not found in the specified substring\n",
    "\n",
    "print(my_str.rfind('u'))             # Output: 63 (rightmost index of 'u')\n",
    "# print(my_str.rindex('u'))          # Output: 63 (rightmost index of 'u')\n"
   ]
  },
  {
   "cell_type": "code",
   "execution_count": null,
   "id": "e6e53f8d",
   "metadata": {},
   "outputs": [],
   "source": [
    "Q17 W A P which applies strip() method if any string, which will be taken from user, starts and ends with space, or applies \n",
    "#rrstrip() method if that string only ends with space or applies lstrip() method if that string only starts with a space.\n",
    "\n",
    "#For example:-\n",
    "#input:- '    Python   '\n",
    "#output:- 'Python'\n",
    "\n",
    "#input:- '    Python'\n",
    "#output:- 'Python'\n",
    "\n",
    "#input:- 'Python   '\n",
    "#output:- 'Python'"
   ]
  },
  {
   "cell_type": "code",
   "execution_count": 38,
   "id": "edc76068",
   "metadata": {},
   "outputs": [
    {
     "name": "stdout",
     "output_type": "stream",
     "text": [
      "Enter a string: '    Python   '\n",
      "Output: '    Python   '\n"
     ]
    }
   ],
   "source": [
    "# Get input from the user\n",
    "user_input = input(\"Enter a string: \")\n",
    "\n",
    "# Check if the string starts with a space\n",
    "if user_input.startswith(' ') and user_input.endswith(' '):\n",
    "    result = user_input.strip()  # Both leading and trailing spaces, so use strip()\n",
    "elif user_input.startswith(' '):\n",
    "    result = user_input.lstrip()  # Only leading space, so use lstrip()\n",
    "elif user_input.endswith(' '):\n",
    "    result = user_input.rstrip()  # Only trailing space, so use rstrip()\n",
    "else:\n",
    "    result = user_input  # No leading or trailing spaces, no need to strip\n",
    "\n",
    "# Print the result\n",
    "print(\"Output:\", result)\n"
   ]
  },
  {
   "cell_type": "code",
   "execution_count": null,
   "id": "02b8b3ed",
   "metadata": {},
   "outputs": [],
   "source": [
    "Q18 my_str = \"Although 8 that way may not be obvious at first unless you're Dutch\"\n",
    "\n",
    "#Write the code to convert all alphabets in my_str into upper case.\n",
    "print()\n",
    "\n",
    "#Write the code to convert all alphabets in my_str into lower case.\n",
    "print()\n",
    "\n",
    "#Write the code to swap the cases of all alphabets in my_str.(lower to upper and upper to lower)\n",
    "print()\n",
    "\n"
   ]
  },
  {
   "cell_type": "code",
   "execution_count": 39,
   "id": "2f5d5193",
   "metadata": {},
   "outputs": [
    {
     "name": "stdout",
     "output_type": "stream",
     "text": [
      "ALTHOUGH 8 THAT WAY MAY NOT BE OBVIOUS AT FIRST UNLESS YOU'RE DUTCH\n"
     ]
    }
   ],
   "source": [
    "my_str_upper = my_str.upper()\n",
    "print(my_str_upper)\n"
   ]
  },
  {
   "cell_type": "code",
   "execution_count": 40,
   "id": "ffe6504b",
   "metadata": {},
   "outputs": [
    {
     "name": "stdout",
     "output_type": "stream",
     "text": [
      "although 8 that way may not be obvious at first unless you're dutch\n"
     ]
    }
   ],
   "source": [
    "my_str_lower = my_str.lower()\n",
    "print(my_str_lower)\n"
   ]
  },
  {
   "cell_type": "code",
   "execution_count": 41,
   "id": "dce1a31f",
   "metadata": {},
   "outputs": [
    {
     "name": "stdout",
     "output_type": "stream",
     "text": [
      "aLTHOUGH 8 THAT WAY MAY NOT BE OBVIOUS AT FIRST UNLESS YOU'RE dUTCH\n"
     ]
    }
   ],
   "source": [
    "my_str_swapcase = my_str.swapcase()\n",
    "print(my_str_swapcase)\n"
   ]
  },
  {
   "cell_type": "code",
   "execution_count": null,
   "id": "7e0008ae",
   "metadata": {},
   "outputs": [],
   "source": [
    "Q19 #Write the code which takes one string from user and if it starts with small case letter then convert it to corresponding \n",
    "#capital letter otherwise if starts with capital letters then convert first character of every word in that string into capital.\n",
    "\n"
   ]
  },
  {
   "cell_type": "code",
   "execution_count": 42,
   "id": "92d630b4",
   "metadata": {},
   "outputs": [
    {
     "name": "stdout",
     "output_type": "stream",
     "text": [
      "Enter a string: A\n",
      "Modified string: A\n"
     ]
    }
   ],
   "source": [
    "# Get input from the user\n",
    "user_input = input(\"Enter a string: \")\n",
    "\n",
    "if user_input and user_input[0].islower():\n",
    "    # If the first character is a lowercase letter, convert it to uppercase\n",
    "    user_input = user_input[0].upper() + user_input[1:]\n",
    "else:\n",
    "    # If the first character is uppercase, capitalize the first character of every word\n",
    "    user_input = user_input.title()\n",
    "\n",
    "# Print the result\n",
    "print(\"Modified string:\", user_input)\n"
   ]
  },
  {
   "cell_type": "code",
   "execution_count": null,
   "id": "b8912f69",
   "metadata": {},
   "outputs": [],
   "source": [
    "Q20 #Take a string from user and check if it is:-\n",
    "#     1. alphanumeric\n",
    "#     2. alphabets\n",
    "#     3. digit\n",
    "#     4. all letters are in lower case\n",
    "#     5. all letters are in upper case\n",
    "#     6. in title case\n",
    "#     7. a space character\n",
    "#     8. numeric\n",
    "#     9. all number elements in string are decimal\n",
    "\n"
   ]
  },
  {
   "cell_type": "code",
   "execution_count": 43,
   "id": "b4a72bf0",
   "metadata": {},
   "outputs": [
    {
     "name": "stdout",
     "output_type": "stream",
     "text": [
      "Enter a string: H\n",
      "Is alphanumeric: True\n",
      "Contains only alphabets: True\n",
      "Contains only digits: False\n",
      "All letters are in lowercase: False\n",
      "All letters are in uppercase: True\n",
      "Is in title case: True\n",
      "Is a space character: False\n",
      "Is numeric: False\n",
      "All numeric elements are decimal: False\n"
     ]
    }
   ],
   "source": [
    "# Get input from the user\n",
    "user_input = input(\"Enter a string: \")\n",
    "\n",
    "# Check if the string is alphanumeric\n",
    "is_alphanumeric = user_input.isalnum()\n",
    "\n",
    "# Check if the string contains only alphabets\n",
    "is_alphabets = user_input.isalpha()\n",
    "\n",
    "# Check if the string contains only digits\n",
    "is_digit = user_input.isdigit()\n",
    "\n",
    "# Check if all letters in the string are in lowercase\n",
    "is_lower = user_input.islower()\n",
    "\n",
    "# Check if all letters in the string are in uppercase\n",
    "is_upper = user_input.isupper()\n",
    "\n",
    "# Check if the string is in title case\n",
    "is_title = user_input.istitle()\n",
    "\n",
    "# Check if the string is a space character\n",
    "is_space = user_input.isspace()\n",
    "\n",
    "# Check if the string is numeric\n",
    "is_numeric = user_input.isnumeric()\n",
    "\n",
    "# Check if all numeric elements in the string are decimal\n",
    "is_decimal = all(char.isdecimal() for char in user_input)\n",
    "\n",
    "# Print the results\n",
    "print(\"Is alphanumeric:\", is_alphanumeric)\n",
    "print(\"Contains only alphabets:\", is_alphabets)\n",
    "print(\"Contains only digits:\", is_digit)\n",
    "print(\"All letters are in lowercase:\", is_lower)\n",
    "print(\"All letters are in uppercase:\", is_upper)\n",
    "print(\"Is in title case:\", is_title)\n",
    "print(\"Is a space character:\", is_space)\n",
    "print(\"Is numeric:\", is_numeric)\n",
    "print(\"All numeric elements are decimal:\", is_decimal)\n"
   ]
  },
  {
   "cell_type": "code",
   "execution_count": null,
   "id": "87c2b7dc",
   "metadata": {},
   "outputs": [],
   "source": [
    "Q21 #W A P which takes a string as an input and prints True if the string is valid identifier else returns False.\n",
    "#Sample Input:- 'abc', 'abc1', 'ab1c', '1abc', 'abc$', '_abc', 'if'\n",
    "\n"
   ]
  },
  {
   "cell_type": "code",
   "execution_count": 44,
   "id": "63f10e47",
   "metadata": {},
   "outputs": [
    {
     "name": "stdout",
     "output_type": "stream",
     "text": [
      "Enter a string: 'abc1'\n",
      "False\n"
     ]
    }
   ],
   "source": [
    "import re\n",
    "\n",
    "# Function to check if a string is a valid identifier\n",
    "def is_valid_identifier(s):\n",
    "    # Define the regular expression pattern for a valid identifier\n",
    "    pattern = r'^[a-zA-Z_][a-zA-Z0-9_]*$'\n",
    "    \n",
    "    # Use re.match to check if the string matches the pattern\n",
    "    if re.match(pattern, s):\n",
    "        return True\n",
    "    else:\n",
    "        return False\n",
    "\n",
    "# Get input from the user\n",
    "user_input = input(\"Enter a string: \")\n",
    "\n",
    "# Check if the input is a valid identifier and print the result\n",
    "if is_valid_identifier(user_input):\n",
    "    print(\"True\")\n",
    "else:\n",
    "    print(\"False\")\n"
   ]
  },
  {
   "cell_type": "code",
   "execution_count": null,
   "id": "d1475cc2",
   "metadata": {},
   "outputs": [],
   "source": [
    "Q22#What will be output of below code?\n",
    "s = chr(65) + chr(97)\n",
    "print(s.isprintable())\n",
    "\n",
    "s = chr(27) + chr(97)\n",
    "print(s.isprintable())\n",
    "\n",
    "s = '\\n'\n",
    "print(s.isprintable())\n",
    "\n",
    "s = ''\n",
    "print(s.isprintable())"
   ]
  },
  {
   "cell_type": "code",
   "execution_count": 45,
   "id": "e10ab080",
   "metadata": {},
   "outputs": [
    {
     "data": {
      "text/plain": [
       "True"
      ]
     },
     "execution_count": 45,
     "metadata": {},
     "output_type": "execute_result"
    }
   ],
   "source": [
    "True\n",
    "False\n",
    "False\n",
    "True\n"
   ]
  },
  {
   "cell_type": "code",
   "execution_count": null,
   "id": "5c3f969d",
   "metadata": {},
   "outputs": [],
   "source": [
    "Q23#What will be output of below code?\n",
    "my_string = '  '\n",
    "print(my_string.isascii())\n",
    "\n",
    "my_string = 'Studytonight'\n",
    "print(my_string.isascii())\n",
    "\n",
    "my_string = 'Study tonight'\n",
    "print(my_string.isascii())\n",
    "\n",
    "my_string = 'Studytonight@123'\n",
    "print(my_string.isascii())\n",
    "\n",
    "my_string = '°'\n",
    "print(my_string.isascii())\n",
    "\n",
    "my_string = 'ö'\n",
    "print(my_string.isascii())"
   ]
  },
  {
   "cell_type": "code",
   "execution_count": 46,
   "id": "f57649cd",
   "metadata": {},
   "outputs": [
    {
     "data": {
      "text/plain": [
       "False"
      ]
     },
     "execution_count": 46,
     "metadata": {},
     "output_type": "execute_result"
    }
   ],
   "source": [
    "True\n",
    "True\n",
    "True\n",
    "False\n",
    "False\n",
    "False\n"
   ]
  },
  {
   "cell_type": "code",
   "execution_count": null,
   "id": "c5ba7d05",
   "metadata": {},
   "outputs": [],
   "source": [
    "Q24 #What will be the output of below code?\n",
    "firstString = \"der Fluß\"\n",
    "secondString = \"der Fluss\"\n",
    "\n",
    "if firstString.casefold() == secondString.casefold():\n",
    "    print('The strings are equal.')\n",
    "else:\n",
    "    print('The strings are not equal.')"
   ]
  },
  {
   "cell_type": "code",
   "execution_count": 1,
   "id": "08a6865d",
   "metadata": {},
   "outputs": [
    {
     "name": "stdout",
     "output_type": "stream",
     "text": [
      "The strings are equal.\n"
     ]
    }
   ],
   "source": [
    "firstString = \"der Fluß\"\n",
    "secondString = \"der Fluss\"\n",
    "\n",
    "if firstString.casefold() == secondString.casefold():\n",
    "    print('The strings are equal.')\n",
    "else:\n",
    "    print('The strings are not equal.')"
   ]
  },
  {
   "cell_type": "code",
   "execution_count": null,
   "id": "82be822e",
   "metadata": {},
   "outputs": [],
   "source": [
    "Q25 #Write the code to get below output\n",
    "#O/P 1:- python** (using ljust method)\n",
    "\n",
    "\n",
    "#Write the code to get below output\n",
    "#O/P 1:- **python (using rjust method)\n",
    "\n",
    "\n",
    "#Write the code to get below output\n",
    "#O/P 1:- **python** (using rjust method)"
   ]
  },
  {
   "cell_type": "code",
   "execution_count": 2,
   "id": "41cfa295",
   "metadata": {},
   "outputs": [
    {
     "name": "stdout",
     "output_type": "stream",
     "text": [
      "python**\n"
     ]
    }
   ],
   "source": [
    "text = \"python\"\n",
    "output = text.ljust(len(text) + 2, \"*\")\n",
    "print(output)\n"
   ]
  },
  {
   "cell_type": "code",
   "execution_count": 3,
   "id": "149a7c55",
   "metadata": {},
   "outputs": [
    {
     "name": "stdout",
     "output_type": "stream",
     "text": [
      "**python\n"
     ]
    }
   ],
   "source": [
    "text = \"python\"\n",
    "output = text.rjust(len(text) + 2, \"*\")\n",
    "print(output)\n"
   ]
  },
  {
   "cell_type": "code",
   "execution_count": 4,
   "id": "118666e1",
   "metadata": {},
   "outputs": [
    {
     "name": "stdout",
     "output_type": "stream",
     "text": [
      "**python**\n"
     ]
    }
   ],
   "source": [
    "text = \"python\"\n",
    "output = text.rjust(len(text) + 2, \"*\").ljust(len(text) + 4, \"*\")\n",
    "print(output)\n"
   ]
  },
  {
   "cell_type": "code",
   "execution_count": null,
   "id": "b10ac959",
   "metadata": {},
   "outputs": [],
   "source": [
    "Q26 #Write a Python program to find the length of the my_str:-\n",
    "\n",
    "#Input:- 'Write a Python program to find the length of the my_str'\n",
    "#Output:- 55"
   ]
  },
  {
   "cell_type": "code",
   "execution_count": 5,
   "id": "71ed61c1",
   "metadata": {},
   "outputs": [
    {
     "name": "stdout",
     "output_type": "stream",
     "text": [
      "55\n"
     ]
    }
   ],
   "source": [
    "my_str = 'Write a Python program to find the length of the my_str'\n",
    "length = len(my_str)\n",
    "print(length)\n"
   ]
  },
  {
   "cell_type": "code",
   "execution_count": null,
   "id": "1348997b",
   "metadata": {},
   "outputs": [],
   "source": [
    "Q27 Write a Python program to find the total number of times letter 'p' is appeared in the below string:-\n",
    "    \n",
    "#Input:- 'peter piper picked a peck of pickled peppers.'\n",
    "#Output:- 9\n",
    "\n"
   ]
  },
  {
   "cell_type": "code",
   "execution_count": 6,
   "id": "57dad5f9",
   "metadata": {},
   "outputs": [
    {
     "name": "stdout",
     "output_type": "stream",
     "text": [
      "9\n"
     ]
    }
   ],
   "source": [
    "input_string = 'peter piper picked a peck of pickled peppers.'\n",
    "count_p = input_string.count('p')\n",
    "print(count_p)\n"
   ]
  },
  {
   "cell_type": "code",
   "execution_count": null,
   "id": "158dd2cc",
   "metadata": {},
   "outputs": [],
   "source": [
    "Q28 #Write a Python Program, to print all the indexes of all occurences of letter 'p' appeared in the string:-\n",
    "    \n",
    "#Input:- 'peter piper picked a peck of pickled peppers.'\n",
    "#Output:- \n",
    "# 0\n",
    "# 6\n",
    "# 8\n",
    "# 12\n",
    "# 21\n",
    "# 29\n",
    "# 37\n",
    "# 39\n",
    "# 40\n"
   ]
  },
  {
   "cell_type": "code",
   "execution_count": 7,
   "id": "d2523b78",
   "metadata": {},
   "outputs": [
    {
     "name": "stdout",
     "output_type": "stream",
     "text": [
      "0\n",
      "6\n",
      "8\n",
      "12\n",
      "21\n",
      "29\n",
      "37\n",
      "39\n",
      "40\n"
     ]
    }
   ],
   "source": [
    "input_string = 'peter piper picked a peck of pickled peppers.'\n",
    "char_to_find = 'p'\n",
    "index = -1\n",
    "\n",
    "while True:\n",
    "    index = input_string.find(char_to_find, index + 1)\n",
    "    if index == -1:\n",
    "        break\n",
    "    print(index)\n"
   ]
  },
  {
   "cell_type": "code",
   "execution_count": null,
   "id": "b3dc0e9f",
   "metadata": {},
   "outputs": [],
   "source": [
    "Q29 Write a python program to find below output:-\n",
    "\n",
    "#Input:- 'peter piper picked a peck of pickled peppers.'\n",
    "#Output:- ['peter', 'piper', 'picked', 'a', 'peck', 'of', 'pickled', 'peppers.']\n",
    "\n"
   ]
  },
  {
   "cell_type": "code",
   "execution_count": 8,
   "id": "ac404bf8",
   "metadata": {},
   "outputs": [
    {
     "name": "stdout",
     "output_type": "stream",
     "text": [
      "['peter', 'piper', 'picked', 'a', 'peck', 'of', 'pickled', 'peppers.']\n"
     ]
    }
   ],
   "source": [
    "input_string = 'peter piper picked a peck of pickled peppers.'\n",
    "word_list = input_string.split()\n",
    "print(word_list)\n"
   ]
  },
  {
   "cell_type": "code",
   "execution_count": null,
   "id": "759ef90b",
   "metadata": {},
   "outputs": [],
   "source": [
    "Q30 #Write a python program to find below output:-\n",
    "\n",
    "#Input:- 'peter piper picked a peck of pickled peppers.'\n",
    "#Output:- 'peppers. pickled of peck a picked piper peter'\n",
    "\n"
   ]
  },
  {
   "cell_type": "code",
   "execution_count": 9,
   "id": "a4788ef5",
   "metadata": {},
   "outputs": [
    {
     "name": "stdout",
     "output_type": "stream",
     "text": [
      "peppers. pickled of peck a picked piper peter\n"
     ]
    }
   ],
   "source": [
    "input_string = 'peter piper picked a peck of pickled peppers.'\n",
    "word_list = input_string.split()\n",
    "reversed_string = ' '.join(reversed(word_list))\n",
    "print(reversed_string)\n"
   ]
  },
  {
   "cell_type": "code",
   "execution_count": null,
   "id": "46d2b6ff",
   "metadata": {},
   "outputs": [],
   "source": [
    "Q31 #Write a python program to find below output:-\n",
    "\n",
    "#Input:- 'peter piper picked a peck of pickled peppers.'\n",
    "#Output:- '.sreppep delkcip fo kcep a dekcip repip retep'\n",
    "\n"
   ]
  },
  {
   "cell_type": "code",
   "execution_count": 20,
   "id": "bc51a1a7",
   "metadata": {},
   "outputs": [
    {
     "name": "stdout",
     "output_type": "stream",
     "text": [
      "peppers. pickled of peck a picked piper peter\n"
     ]
    },
    {
     "data": {
      "text/plain": [
       "'.sreppep delkcip fo kcep a dekcip repip retep'"
      ]
     },
     "execution_count": 20,
     "metadata": {},
     "output_type": "execute_result"
    }
   ],
   "source": [
    "\n",
    "input_string = 'peter piper picked a peck of pickled peppers.'\n",
    "words = input_string.split()\n",
    "reversed_string = ' '.join([word[::-1] for word in words])\n",
    "print(reversed_string[::-1])\n",
    "'.sreppep delkcip fo kcep a dekcip repip retep'\n"
   ]
  },
  {
   "cell_type": "code",
   "execution_count": null,
   "id": "ce58c879",
   "metadata": {},
   "outputs": [],
   "source": [
    "Q32 #Write a python program to find below output:-\n",
    "\n",
    "#Input:- 'peter piper picked a peck of pickled peppers.'\n",
    "#Output:- 'retep repip dekcip a kcep fo delkcip .sreppep'"
   ]
  },
  {
   "cell_type": "code",
   "execution_count": 21,
   "id": "7675a60c",
   "metadata": {
    "scrolled": true
   },
   "outputs": [
    {
     "name": "stdout",
     "output_type": "stream",
     "text": [
      "peppers. pickled of peck a picked piper peter\n"
     ]
    },
    {
     "data": {
      "text/plain": [
       "'retep repip dekcip a kcep fo delkcip .sreppep'"
      ]
     },
     "execution_count": 21,
     "metadata": {},
     "output_type": "execute_result"
    }
   ],
   "source": [
    "input_string = 'peter piper picked a peck of pickled peppers.'\n",
    "words = input_string.split()\n",
    "reversed_words = [word[::-1] for word in words]\n",
    "reversed_string = ' '.join(reversed_words)\n",
    "reversed_final = reversed_string[::-1]\n",
    "print(reversed_final)\n",
    "'retep repip dekcip a kcep fo delkcip .sreppep'\n"
   ]
  },
  {
   "cell_type": "code",
   "execution_count": null,
   "id": "09ba9cfb",
   "metadata": {},
   "outputs": [],
   "source": [
    "Q33 #Write a python program to find below output:-\n",
    "\n",
    "#Input:- 'peter piper picked a peck of pickled peppers.'\n",
    "#Output:- 'Peter Piper Picked A Peck Of Pickled Peppers.'\n",
    "\n"
   ]
  },
  {
   "cell_type": "code",
   "execution_count": 22,
   "id": "addda781",
   "metadata": {},
   "outputs": [
    {
     "name": "stdout",
     "output_type": "stream",
     "text": [
      "Peter Piper Picked A Peck Of Pickled Peppers.\n"
     ]
    }
   ],
   "source": [
    "input_string = 'peter piper picked a peck of pickled peppers.'\n",
    "output_string = input_string.title()\n",
    "print(output_string)\n"
   ]
  },
  {
   "cell_type": "code",
   "execution_count": null,
   "id": "570e3cf5",
   "metadata": {},
   "outputs": [],
   "source": [
    "Q34 #Write a python program to find below output:-\n",
    "\n",
    "#Input:- 'Peter Piper Picked A Peck Of Pickled Peppers.'\n",
    "#Output:- 'Peter piper picked a peck of pickled peppers.'\n"
   ]
  },
  {
   "cell_type": "code",
   "execution_count": 23,
   "id": "7188fa32",
   "metadata": {},
   "outputs": [
    {
     "name": "stdout",
     "output_type": "stream",
     "text": [
      "Peter piper picked a peck of pickled peppers.\n"
     ]
    }
   ],
   "source": [
    "input_string = 'Peter Piper Picked A Peck Of Pickled Peppers.'\n",
    "output_string = input_string.capitalize()\n",
    "print(output_string)\n"
   ]
  },
  {
   "cell_type": "code",
   "execution_count": null,
   "id": "f67d0e1d",
   "metadata": {},
   "outputs": [],
   "source": [
    "Q35 #Write a python program to implement index method. If sub_str is found in my_str then it will print the index\n",
    "# of first occurrence of first character of matching string in my_str:-\n",
    "\n",
    "#Input:- my_str = 'Peter Piper Picked A Peck Of Pickled Peppers.', sub_str = 'Pickl'\n",
    "#Output:- 29"
   ]
  },
  {
   "cell_type": "code",
   "execution_count": 24,
   "id": "379cf0be",
   "metadata": {},
   "outputs": [
    {
     "name": "stdout",
     "output_type": "stream",
     "text": [
      "29\n"
     ]
    }
   ],
   "source": [
    "my_str = 'Peter Piper Picked A Peck Of Pickled Peppers.'\n",
    "sub_str = 'Pickl'\n",
    "\n",
    "if sub_str in my_str:\n",
    "    index = my_str.index(sub_str)\n",
    "    print(index)\n",
    "else:\n",
    "    print('Substring not found in the given string.')\n"
   ]
  },
  {
   "cell_type": "code",
   "execution_count": null,
   "id": "4efa8922",
   "metadata": {},
   "outputs": [],
   "source": [
    "Q36 #Write a python program to implement replace method. If sub_str is found in my_str then it will replace the first \n",
    "#occurrence of sub_str with new_str else it will will print sub_str not found:-\n",
    "\n",
    "#Input:- my_str = 'Peter Piper Picked A Peck Of Pickled Peppers.', sub_str = 'Peck', new_str = 'Pack'\n",
    "#Output:- 'Peter Piper Picked A Pack Of Pickled Peppers.'\n",
    "\n"
   ]
  },
  {
   "cell_type": "code",
   "execution_count": 25,
   "id": "5f4705d8",
   "metadata": {},
   "outputs": [
    {
     "name": "stdout",
     "output_type": "stream",
     "text": [
      "Peter Piper Picked A Pack Of Pickled Peppers.\n"
     ]
    }
   ],
   "source": [
    "my_str = 'Peter Piper Picked A Peck Of Pickled Peppers.'\n",
    "sub_str = 'Peck'\n",
    "new_str = 'Pack'\n",
    "\n",
    "if sub_str in my_str:\n",
    "    modified_str = my_str.replace(sub_str, new_str, 1)\n",
    "    print(modified_str)\n",
    "else:\n",
    "    print('sub_str not found.')\n"
   ]
  },
  {
   "cell_type": "code",
   "execution_count": null,
   "id": "240d9c21",
   "metadata": {},
   "outputs": [],
   "source": [
    "Q37 #Write a python program to find below output (implements rjust and ljust):-\n",
    "\n",
    "#Input:- 'Peter Piper Picked A Peck Of Pickled Peppers.', sub_str = 'Peck', \n",
    "#Output:- '*********************Peck********************'\n",
    "\n",
    "\n"
   ]
  },
  {
   "cell_type": "code",
   "execution_count": 26,
   "id": "5d693a7e",
   "metadata": {},
   "outputs": [
    {
     "name": "stdout",
     "output_type": "stream",
     "text": [
      "*********************Peck********************\n"
     ]
    }
   ],
   "source": [
    "my_str = 'Peter Piper Picked A Peck Of Pickled Peppers.'\n",
    "sub_str = 'Peck'\n",
    "\n",
    "if sub_str in my_str:\n",
    "    # Calculate the total width of the output string\n",
    "    total_width = len(my_str)\n",
    "    \n",
    "    # Find the index of the first occurrence of sub_str\n",
    "    start_index = my_str.index(sub_str)\n",
    "    \n",
    "    # Calculate the width of the padding on each side\n",
    "    left_padding = start_index\n",
    "    right_padding = total_width - (start_index + len(sub_str))\n",
    "    \n",
    "    # Create the output string with '*' padding using ljust and rjust\n",
    "    output_str = sub_str.rjust(left_padding + len(sub_str), '*').ljust(total_width, '*')\n",
    "    \n",
    "    print(output_str)\n",
    "else:\n",
    "    print('sub_str not found.')\n"
   ]
  },
  {
   "cell_type": "code",
   "execution_count": null,
   "id": "044f51e4",
   "metadata": {},
   "outputs": [],
   "source": []
  }
 ],
 "metadata": {
  "kernelspec": {
   "display_name": "Python 3 (ipykernel)",
   "language": "python",
   "name": "python3"
  },
  "language_info": {
   "codemirror_mode": {
    "name": "ipython",
    "version": 3
   },
   "file_extension": ".py",
   "mimetype": "text/x-python",
   "name": "python",
   "nbconvert_exporter": "python",
   "pygments_lexer": "ipython3",
   "version": "3.11.4"
  }
 },
 "nbformat": 4,
 "nbformat_minor": 5
}
