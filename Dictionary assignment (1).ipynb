{
 "cells": [
  {
   "cell_type": "code",
   "execution_count": null,
   "id": "0011cf08",
   "metadata": {},
   "outputs": [],
   "source": [
    "Q1 # Initialize a dictionary \"emp_info\" with below details\n",
    "# In - emp_info['Tom']\n",
    "# Out - {'email':'tom_latham019@gmail.com', 'Phone': +1987654321, 'City': 'California'}\n",
    "\n",
    "# In - emp_info['Kathy']\n",
    "# Out - {'email':'kathy_abram897@gmail.com', 'Phone': +1887654321, 'City': 'New York'}\n"
   ]
  },
  {
   "cell_type": "code",
   "execution_count": 2,
   "id": "fa96d74c",
   "metadata": {},
   "outputs": [
    {
     "name": "stdout",
     "output_type": "stream",
     "text": [
      "{'email': 'tom_latham019@gmail.com', 'Phone': '+1987654321', 'City': 'California'}\n",
      "{'email': 'kathy_abram897@gmail.com', 'Phone': '+1887654321', 'City': 'New York'}\n"
     ]
    }
   ],
   "source": [
    "emp_info = {\n",
    "    'Tom': {'email': 'tom_latham019@gmail.com', 'Phone': '+1987654321', 'City': 'California'},\n",
    "    'Kathy': {'email': 'kathy_abram897@gmail.com', 'Phone': '+1887654321', 'City': 'New York'}\n",
    "}\n",
    "print(emp_info['Tom'])  # Output: {'email': 'tom_latham019@gmail.com', 'Phone': '+1987654321', 'City': 'California'}\n",
    "print(emp_info['Kathy'])  # Output: {'email': 'kathy_abram897@gmail.com', 'Phone': '+1887654321', 'City': 'New York'}\n"
   ]
  },
  {
   "cell_type": "code",
   "execution_count": null,
   "id": "bd1cef77",
   "metadata": {},
   "outputs": [],
   "source": [
    "Q2 # Create a dictionary out of below inputs\n",
    "# lst1 = ['emp1', 'emp2', 'emp3']\n",
    "# emp_key = ['e_name', 'e_id', 'e_sal']\n",
    "# emp1_val = ['John', 'SG101', '$10,000']\n",
    "# emp2_val = ['Smith', 'SG102', '$9,000']\n",
    "# emp3_val = ['Peter', 'SG103', '$9,500']\n",
    "\n",
    "# Expected Output:- {'emp1':{'e_name':'John', 'e_id':'SG101', 'e_sal':$10,000}, \n",
    "#                    'emp2':{'e_name':'Smith', 'e_id':'SG102', 'e_sal':$9,000}, \n",
    "#                    'emp3':{'e_name':'Peter', 'e_id':'SG103', 'e_sal':$9,500}}\n",
    "\n"
   ]
  },
  {
   "cell_type": "code",
   "execution_count": 3,
   "id": "3c23d56c",
   "metadata": {},
   "outputs": [
    {
     "name": "stdout",
     "output_type": "stream",
     "text": [
      "{'emp1': {'e_name': 'John', 'e_id': 'SG101', 'e_sal': '$10,000'}, 'emp2': {'e_name': 'John', 'e_id': 'SG101', 'e_sal': '$10,000'}, 'emp3': {'e_name': 'John', 'e_id': 'SG101', 'e_sal': '$10,000'}}\n"
     ]
    }
   ],
   "source": [
    "lst1 = ['emp1', 'emp2', 'emp3']\n",
    "emp_key = ['e_name', 'e_id', 'e_sal']\n",
    "emp1_val = ['John', 'SG101', '$10,000']\n",
    "emp2_val = ['Smith', 'SG102', '$9,000']\n",
    "emp3_val = ['Peter', 'SG103', '$9,500']\n",
    "\n",
    "emp_info = {}\n",
    "\n",
    "for i in range(len(lst1)):\n",
    "    emp_info[lst1[i]] = {emp_key[j]: emp1_val[j] for j in range(len(emp_key))}\n",
    "    \n",
    "print(emp_info)\n"
   ]
  },
  {
   "cell_type": "code",
   "execution_count": null,
   "id": "87ed8e61",
   "metadata": {},
   "outputs": [],
   "source": [
    "Q3 Acess the value of key 'history'\n",
    "\n",
    "sampleDict = { \n",
    "   \"class\":{ \n",
    "      \"student\":{ \n",
    "         \"name\":\"Mike\",\n",
    "         \"marks\":{ \n",
    "            \"physics\":70,\n",
    "            \"history\":80\n",
    "         }\n",
    "      }\n",
    "   }\n",
    "}\n",
    "\n"
   ]
  },
  {
   "cell_type": "code",
   "execution_count": 30,
   "id": "e84b35f9",
   "metadata": {},
   "outputs": [
    {
     "name": "stdout",
     "output_type": "stream",
     "text": [
      "80\n"
     ]
    }
   ],
   "source": [
    "history_score = sampleDict[\"class\"][\"student\"][\"marks\"][\"history\"]\n",
    "print(history_score)\n",
    "\n"
   ]
  },
  {
   "cell_type": "code",
   "execution_count": null,
   "id": "05008966",
   "metadata": {},
   "outputs": [],
   "source": [
    "Q4 # Initialize dictionary with default values. Inputs are:-\n",
    "# employees = ['Kelly', 'Emma', 'John']\n",
    "# defaults = {\"designation\": 'Application Developer', \"salary\": 8000}\n",
    "\n",
    "#Expected output:- {'Kelly': {'designation': 'Application Developer', 'salary': 8000}, \n",
    "#                   'Emma': {'designation': 'Application Developer', 'salary': 8000}, \n",
    "#                   'John': {'designation': 'Application Developer', 'salary': 8000}}\n",
    "\n",
    "\n"
   ]
  },
  {
   "cell_type": "code",
   "execution_count": 8,
   "id": "0dd77b67",
   "metadata": {},
   "outputs": [
    {
     "name": "stdout",
     "output_type": "stream",
     "text": [
      "{'Kelly': {'designation': 'Application Developer', 'salary': 8000}, 'Emma': {'designation': 'Application Developer', 'salary': 8000}, 'John': {'designation': 'Application Developer', 'salary': 8000}}\n"
     ]
    }
   ],
   "source": [
    "employees = ['Kelly', 'Emma', 'John']\n",
    "defaults = {\"designation\": 'Application Developer', \"salary\": 8000}\n",
    "\n",
    "employee_info = {employee: defaults.copy() for employee in employees}\n",
    "print(employee_info)\n"
   ]
  },
  {
   "cell_type": "code",
   "execution_count": null,
   "id": "386743be",
   "metadata": {},
   "outputs": [],
   "source": [
    "Q5 # In gene expression, mRNA is transcribed from a DNA template. \n",
    "# The 4 nucleotide bases of A, T, C, G corresponds to the U, A, G, C bases of the mRNA. \n",
    "# Write a function that returns the mRNA transcript given the sequence of a DNA strand.\n",
    "\n",
    "# Use a dictionary to provide the mapping of DNA to RNA bases."
   ]
  },
  {
   "cell_type": "code",
   "execution_count": 9,
   "id": "63ab8759",
   "metadata": {},
   "outputs": [
    {
     "name": "stdout",
     "output_type": "stream",
     "text": [
      "UAGC\n"
     ]
    }
   ],
   "source": [
    "def transcribe_dna_to_mrna(dna_sequence):\n",
    "    \n",
    "    dna_to_rna = {'A': 'U', 'T': 'A', 'C': 'G', 'G': 'C'}\n",
    "\n",
    "    \n",
    "    mrna_sequence = ''\n",
    "\n",
    "    \n",
    "    for base in dna_sequence:\n",
    "        \n",
    "        if base in dna_to_rna:\n",
    "            mrna_sequence += dna_to_rna[base]\n",
    "        else:\n",
    "            \n",
    "            raise ValueError(\"Invalid DNA base: \" + base)\n",
    "\n",
    "    return mrna_sequence\n",
    "\n",
    "\n",
    "dna_sequence = \"ATCG\"\n",
    "mrna_sequence = transcribe_dna_to_mrna(dna_sequence)\n",
    "print(mrna_sequence)  \n"
   ]
  },
  {
   "cell_type": "code",
   "execution_count": null,
   "id": "78272bb1",
   "metadata": {},
   "outputs": [],
   "source": [
    "Q6 # Write a function which takes a word as input and returns a dictionary with letters as key and no of time letters are repeated as value.\n",
    "# In - count_letter('google.com')\n",
    "# Out - {'g': 2, 'o': 3, 'l': 1, 'e': 1, '.': 1, 'c': 1, 'm': 1}"
   ]
  },
  {
   "cell_type": "code",
   "execution_count": 10,
   "id": "1706988c",
   "metadata": {},
   "outputs": [
    {
     "name": "stdout",
     "output_type": "stream",
     "text": [
      "{'g': 2, 'o': 3, 'l': 1, 'e': 1, '.': 1, 'c': 1, 'm': 1}\n"
     ]
    }
   ],
   "source": [
    "def count_letter(word):\n",
    "    letter_count = {}\n",
    "    for letter in word:\n",
    "        if letter in letter_count:\n",
    "            letter_count[letter] += 1\n",
    "        else:\n",
    "            letter_count[letter] = 1\n",
    "    return letter_count\n",
    "\n",
    "# Example usage:\n",
    "word = 'google.com'\n",
    "result = count_letter(word)\n",
    "print(result)\n"
   ]
  },
  {
   "cell_type": "code",
   "execution_count": null,
   "id": "421a0d9f",
   "metadata": {},
   "outputs": [],
   "source": [
    "Q7 # A DNA strand consisting of the 4 nucleotide bases is usually represented with a string of letters: A,T, C, G. \n",
    "# Write a function that computes the base composition of a given DNA sequence.\n",
    "\n",
    "# In - baseComposition(\"CTATCGGCACCCTTTCAGCA\")\n",
    "# Out - {'A': 4, 'C': 8, 'T': 5,  'G': 3 }\n",
    "    \n",
    "# In - baseComposition(\"AGT\")\n",
    "# Out - {'A': 1, 'C': 0, 'T': 1,  'G': 1 }"
   ]
  },
  {
   "cell_type": "code",
   "execution_count": 11,
   "id": "64ab79f5",
   "metadata": {},
   "outputs": [
    {
     "name": "stdout",
     "output_type": "stream",
     "text": [
      "{'A': 4, 'T': 5, 'C': 8, 'G': 3}\n",
      "{'A': 1, 'T': 1, 'C': 0, 'G': 1}\n"
     ]
    }
   ],
   "source": [
    "def baseComposition(dna_sequence):\n",
    "    base_count = {'A': 0, 'T': 0, 'C': 0, 'G': 0}\n",
    "    for base in dna_sequence:\n",
    "        if base in base_count:\n",
    "            base_count[base] += 1\n",
    "    return base_count\n",
    "\n",
    "# Example usage:\n",
    "sequence1 = \"CTATCGGCACCCTTTCAGCA\"\n",
    "result1 = baseComposition(sequence1)\n",
    "print(result1)  # Output: {'A': 4, 'C': 8, 'T': 5, 'G': 3}\n",
    "\n",
    "sequence2 = \"AGT\"\n",
    "result2 = baseComposition(sequence2)\n",
    "print(result2)  # Output: {'A': 1, 'C': 0, 'T': 1, 'G': 1}\n"
   ]
  },
  {
   "cell_type": "code",
   "execution_count": null,
   "id": "c0b3d893",
   "metadata": {},
   "outputs": [],
   "source": [
    "Q8 # [MCQ] Suppose \"d\" is an empty dictionary, which statement does not assign \"d\" with {\"Name\":\"Tom\"}? \n",
    "# 1. d = {\"Name\": \"Tom\" }\n",
    "# 2. d[\"Name\"] = \"Tom\"\n",
    "# 3. d.update({\"Name\": \"Tom\" })\n",
    "# 4. d.setdefault(\"Name\", \"Tom\")\n",
    "# 5. None of the above."
   ]
  },
  {
   "cell_type": "code",
   "execution_count": null,
   "id": "19ead007",
   "metadata": {},
   "outputs": [],
   "source": [
    "Option 5, \"None of the above,\" does not assign the dictionary \"d\" with {\"Name\":\"Tom\"}. The other four options all assign the value {\"Name\": \"Tom\"} to the dictionary \"d.\""
   ]
  },
  {
   "cell_type": "code",
   "execution_count": null,
   "id": "79449c56",
   "metadata": {},
   "outputs": [],
   "source": [
    "Q9 # [MCQ] d = {\"a\":1, \"b\":2}. Which of the statements returns [1,2]? \n",
    "# 1. d.keys()\n",
    "# 2. d.values()\n",
    "# 3. d.items()\n",
    "# 4. d.popitem()\n",
    "# 5. None of the above."
   ]
  },
  {
   "cell_type": "code",
   "execution_count": null,
   "id": "a4a668fe",
   "metadata": {},
   "outputs": [],
   "source": [
    "d.values()"
   ]
  },
  {
   "cell_type": "code",
   "execution_count": null,
   "id": "32794094",
   "metadata": {},
   "outputs": [],
   "source": [
    "Q10# [MCQ] Which of the following declarations is not valid for 'dict' type?\n",
    "# 1. d = {\"Name\": \"Tom\" }\n",
    "# 2. d = { (1,3,4): 4.5 }\n",
    "# 3. d = { [\"First\", \"Last\"]: (1,3) }\n",
    "# 4. d = { 1: 0.4 }\n",
    "# 5. None of the above"
   ]
  },
  {
   "cell_type": "code",
   "execution_count": null,
   "id": "e9d39368",
   "metadata": {},
   "outputs": [],
   "source": [
    "Option 3, `d = { [\"First\", \"Last\"]: (1,3) }`, is not a valid declaration for a dictionary in Python. Dictionary keys must be of an immutable data type, such as strings, numbers, or tuples. Lists are mutable and cannot be used as dictionary keys. \n",
    "\n",
    "So, the correct answer is option 3."
   ]
  },
  {
   "cell_type": "code",
   "execution_count": null,
   "id": "365319ff",
   "metadata": {},
   "outputs": [],
   "source": [
    "Q11# Write a function reverseLookup(dictionary, value) that takes in a dictionary \n",
    "# and a value as arguments and returns a sorted list of all keys that contains the value. \n",
    "# The function will return an empty list if no match is found.\n",
    "\n",
    "# In - reverseLookup({'a':1, 'b':2, 'c':2}, 1)\n",
    "# Out - ['a']\n",
    "# In - reverseLookup({'a':1, 'b':2, 'c':2}, 2)\n",
    "# Out - ['b', 'c']\n",
    "# In - reverseLookup({'a':1, 'b':2, 'c':2}, 3)\n",
    "# Out - []"
   ]
  },
  {
   "cell_type": "code",
   "execution_count": 13,
   "id": "ea62dc2c",
   "metadata": {},
   "outputs": [
    {
     "name": "stdout",
     "output_type": "stream",
     "text": [
      "['a']\n",
      "['b', 'c']\n",
      "[]\n"
     ]
    }
   ],
   "source": [
    "def reverseLookup(dictionary, value):\n",
    "    keys_with_value = [key for key, val in dictionary.items() if val == value]\n",
    "    return sorted(keys_with_value)\n",
    "\n",
    "\n",
    "dict1 = {'a': 1, 'b': 2, 'c': 2}\n",
    "result1 = reverseLookup(dict1, 1)\n",
    "print(result1)  \n",
    "\n",
    "result2 = reverseLookup(dict1, 2)\n",
    "print(result2)  \n",
    "\n",
    "result3 = reverseLookup(dict1, 3)\n",
    "print(result3)  \n"
   ]
  },
  {
   "cell_type": "code",
   "execution_count": null,
   "id": "08e8c35e",
   "metadata": {},
   "outputs": [],
   "source": [
    "Q12 # Write a function invertDictionary(d) that takes in a dictionary as argument and return a dictionary that inverts the keys and the values of the original dictionary.\n",
    "# In - invertDictionary({'a':1, 'b':2, 'c':3, 'd':2})\n",
    "# Out - {1: ['a'], 2: ['b', 'd'], 3: ['c']}\n",
    "# In - invertDictionary({'a':3, 'b':3, 'c':3})\n",
    "# Out - {3: ['a', 'c', 'b']}\n",
    "# In - invertDictionary({'a':2, 'b':1, 'c':2, 'd':1})\n",
    "# Out - {1: ['b', 'd'], 2: ['a', 'c']}\n",
    "\n",
    "\n"
   ]
  },
  {
   "cell_type": "code",
   "execution_count": 14,
   "id": "f995c7d1",
   "metadata": {},
   "outputs": [
    {
     "name": "stdout",
     "output_type": "stream",
     "text": [
      "{1: ['a'], 2: ['b', 'd'], 3: ['c']}\n",
      "{3: ['a', 'b', 'c']}\n",
      "{2: ['a', 'c'], 1: ['b', 'd']}\n"
     ]
    }
   ],
   "source": [
    "def invertDictionary(d):\n",
    "    inverted_dict = {}\n",
    "    \n",
    "    for key, value in d.items():\n",
    "        if value in inverted_dict:\n",
    "            inverted_dict[value].append(key)\n",
    "        else:\n",
    "            inverted_dict[value] = [key]\n",
    "    \n",
    "    return inverted_dict\n",
    "\n",
    "\n",
    "dict1 = {'a': 1, 'b': 2, 'c': 3, 'd': 2}\n",
    "result1 = invertDictionary(dict1)\n",
    "print(result1)  \n",
    "\n",
    "dict2 = {'a': 3, 'b': 3, 'c': 3}\n",
    "result2 = invertDictionary(dict2)\n",
    "print(result2)  \n",
    "\n",
    "dict3 = {'a': 2, 'b': 1, 'c': 2, 'd': 1}\n",
    "result3 = invertDictionary(dict3)\n",
    "print(result3)  \n"
   ]
  },
  {
   "cell_type": "code",
   "execution_count": null,
   "id": "15213c39",
   "metadata": {},
   "outputs": [],
   "source": [
    "Q13 # Write a function that converts a sparse vector into a dictionary as described above.\n",
    "# In - convertVector([1, 0, 0, 2, 0, 0, 0, 3, 0, 0, 0, 0, 4])\n",
    "# Out - {0: 1, 3: 2, 7: 3, 12: 4}\n",
    "# In - convertVector([1, 0, 1 , 0, 2, 0, 1, 0, 0, 1, 0])\n",
    "# Out - {0: 1, 2: 1, 4: 2, 6: 1, 9: 1}\n",
    "# In - convertVector([0, 0, 0, 0, 0])\n",
    "# Out - {}\n",
    "\n"
   ]
  },
  {
   "cell_type": "code",
   "execution_count": 15,
   "id": "ce1257cc",
   "metadata": {},
   "outputs": [
    {
     "name": "stdout",
     "output_type": "stream",
     "text": [
      "{0: 1, 3: 2, 7: 3, 12: 4}\n",
      "{0: 1, 2: 1, 4: 2, 6: 1, 9: 1}\n",
      "{}\n"
     ]
    }
   ],
   "source": [
    "def convertVector(sparse_vector):\n",
    "    vector_dict = {}\n",
    "    for index, value in enumerate(sparse_vector):\n",
    "        if value != 0:\n",
    "            vector_dict[index] = value\n",
    "    return vector_dict\n",
    "\n",
    "\n",
    "vector1 = [1, 0, 0, 2, 0, 0, 0, 3, 0, 0, 0, 0, 4]\n",
    "result1 = convertVector(vector1)\n",
    "print(result1)  \n",
    "\n",
    "vector2 = [1, 0, 1, 0, 2, 0, 1, 0, 0, 1, 0]\n",
    "result2 = convertVector(vector2)\n",
    "print(result2)  \n",
    "\n",
    "vector3 = [0, 0, 0, 0, 0]\n",
    "result3 = convertVector(vector3)\n",
    "print(result3)  \n"
   ]
  },
  {
   "cell_type": "code",
   "execution_count": null,
   "id": "703c416f",
   "metadata": {},
   "outputs": [],
   "source": [
    "Q14 # Write a function that converts a dictionary back to its sparse vector representation.\n",
    "# In - convertDictionary({0: 1, 3: 2, 7: 3, 12: 4})\n",
    "# Out - [1, 0, 0, 2, 0, 0, 0, 3, 0, 0, 0, 0, 4]\n",
    "# In - convertDictionary({0: 1, 2: 1, 4: 2, 6: 1, 9: 1})\n",
    "# Out - [1, 0, 1, 0, 2, 0, 1, 0, 0, 1]\n",
    "# In - convertDictionary({})\n",
    "# Out - []\n",
    "\n"
   ]
  },
  {
   "cell_type": "code",
   "execution_count": 16,
   "id": "bb4a66ab",
   "metadata": {},
   "outputs": [
    {
     "name": "stdout",
     "output_type": "stream",
     "text": [
      "[1, 0, 0, 2, 0, 0, 0, 3, 0, 0, 0, 0, 4]\n",
      "[1, 0, 1, 0, 2, 0, 1, 0, 0, 1]\n",
      "[]\n"
     ]
    }
   ],
   "source": [
    "def convertDictionary(dictionary):\n",
    "    if not dictionary:\n",
    "        return []\n",
    "\n",
    "    max_index = max(dictionary.keys())\n",
    "    sparse_vector = [0] * (max_index + 1)\n",
    "    \n",
    "    for key, value in dictionary.items():\n",
    "        sparse_vector[key] = value\n",
    "    \n",
    "    return sparse_vector\n",
    "\n",
    "\n",
    "dict1 = {0: 1, 3: 2, 7: 3, 12: 4}\n",
    "result1 = convertDictionary(dict1)\n",
    "print(result1)  \n",
    "\n",
    "dict2 = {0: 1, 2: 1, 4: 2, 6: 1, 9: 1}\n",
    "result2 = convertDictionary(dict2)\n",
    "print(result2)  \n",
    "\n",
    "dict3 = {}\n",
    "result3 = convertDictionary(dict3)\n",
    "print(result3)  \n"
   ]
  },
  {
   "cell_type": "code",
   "execution_count": null,
   "id": "2f326572",
   "metadata": {},
   "outputs": [],
   "source": [
    "Q15 # Given a Python dictionary, Change Brad’s salary to 8500\n",
    "# sampleDict = {\n",
    "#      'emp1': {'name': 'Jhon', 'salary': 7500},\n",
    "#      'emp2': {'name': 'Emma', 'salary': 8000},\n",
    "#      'emp3': {'name': 'Brad', 'salary': 6500}\n",
    "# }\n",
    "\n",
    "# Expected Output\n",
    "# sampleDict = {\n",
    "#      'emp1': {'name': 'Jhon', 'salary': 7500},\n",
    "#      'emp2': {'name': 'Emma', 'salary': 8000},\n",
    "#      'emp3': {'name': 'Brad', 'salary': 8500}\n",
    "# }\n",
    "\n"
   ]
  },
  {
   "cell_type": "code",
   "execution_count": 17,
   "id": "87761b48",
   "metadata": {},
   "outputs": [
    {
     "name": "stdout",
     "output_type": "stream",
     "text": [
      "{'emp1': {'name': 'Jhon', 'salary': 7500}, 'emp2': {'name': 'Emma', 'salary': 8000}, 'emp3': {'name': 'Brad', 'salary': 8500}}\n"
     ]
    }
   ],
   "source": [
    "sampleDict = {\n",
    "    'emp1': {'name': 'Jhon', 'salary': 7500},\n",
    "    'emp2': {'name': 'Emma', 'salary': 8000},\n",
    "    'emp3': {'name': 'Brad', 'salary': 6500}\n",
    "}\n",
    "\n",
    "\n",
    "sampleDict['emp3']['salary'] = 8500\n",
    "\n",
    "\n",
    "print(sampleDict)\n"
   ]
  },
  {
   "cell_type": "code",
   "execution_count": null,
   "id": "9862547c",
   "metadata": {},
   "outputs": [],
   "source": [
    "Q16 # Get the key corresponding to the minimum value from the following dictionary\n",
    "# sampleDict = {\n",
    "#   'Physics': 82,\n",
    "#   'Math': 65,\n",
    "#   'history': 75\n",
    "# }\n",
    "\n",
    "# Expected Output\n",
    "# Math\n",
    "\n"
   ]
  },
  {
   "cell_type": "code",
   "execution_count": 19,
   "id": "de013ee3",
   "metadata": {},
   "outputs": [
    {
     "name": "stdout",
     "output_type": "stream",
     "text": [
      "Math\n"
     ]
    }
   ],
   "source": [
    "sampleDict = {\n",
    "    'Physics': 82,\n",
    "    'Math': 65,\n",
    "    'History': 75\n",
    "}\n",
    "\n",
    "# Find the key with the minimum value\n",
    "min_key = min(sampleDict, key=sampleDict.get)\n",
    "\n",
    "# Print the key with the minimum value\n",
    "print(min_key)\n"
   ]
  },
  {
   "cell_type": "code",
   "execution_count": null,
   "id": "ac3a668e",
   "metadata": {},
   "outputs": [],
   "source": [
    "Q17 # Rename key city to location in the following dictionary\n",
    "# sampleDict = {\n",
    "#   \"name\": \"Kelly\",\n",
    "#   \"age\":25,\n",
    "#   \"salary\": 8000,\n",
    "#   \"city\": \"New york\"\n",
    "# }\n",
    "\n",
    "# Expected Output\n",
    "# {\n",
    "#   \"name\": \"Kelly\",\n",
    "#   \"age\":25,\n",
    "#   \"salary\": 8000,\n",
    "#   \"location\": \"New york\"\n",
    "# }"
   ]
  },
  {
   "cell_type": "code",
   "execution_count": 20,
   "id": "e9132e75",
   "metadata": {},
   "outputs": [
    {
     "name": "stdout",
     "output_type": "stream",
     "text": [
      "{'name': 'Kelly', 'age': 25, 'salary': 8000, 'location': 'New York'}\n"
     ]
    }
   ],
   "source": [
    "sampleDict = {\n",
    "   \"name\": \"Kelly\",\n",
    "   \"age\": 25,\n",
    "   \"salary\": 8000,\n",
    "   \"city\": \"New York\"\n",
    "}\n",
    "\n",
    "# Rename the key \"city\" to \"location\"\n",
    "sampleDict[\"location\"] = sampleDict.pop(\"city\")\n",
    "\n",
    "print(sampleDict)\n"
   ]
  },
  {
   "cell_type": "code",
   "execution_count": null,
   "id": "deb163d7",
   "metadata": {},
   "outputs": [],
   "source": [
    "Q18 # Check if a value 200 exists in a dictionary\n",
    "# sampleDict = {'a': 100, 'b': 200, 'c': 300}\n",
    "\n",
    "# Expected Output: True"
   ]
  },
  {
   "cell_type": "code",
   "execution_count": 21,
   "id": "2806fa26",
   "metadata": {},
   "outputs": [
    {
     "name": "stdout",
     "output_type": "stream",
     "text": [
      "True\n"
     ]
    }
   ],
   "source": [
    "sampleDict = {'a': 100, 'b': 200, 'c': 300}\n",
    "\n",
    "\n",
    "if 200 in sampleDict.values():\n",
    "    print(True)\n",
    "else:\n",
    "    print(False)\n"
   ]
  },
  {
   "cell_type": "code",
   "execution_count": null,
   "id": "b3e1d1fe",
   "metadata": {},
   "outputs": [],
   "source": [
    "Q19 # Delete set of keys from Python Dictionary\n",
    "# sampleDict = {\n",
    "#   \"name\": \"Kelly\",\n",
    "#   \"age\":25,\n",
    "#   \"salary\": 8000,\n",
    "#   \"city\": \"New york\"\n",
    "  \n",
    "# }\n",
    "# keysToRemove = [\"name\", \"salary\"]\n",
    "\n",
    "# Expected Output:\n",
    "# {'city': 'New york', 'age': 25}"
   ]
  },
  {
   "cell_type": "code",
   "execution_count": 22,
   "id": "26128b0c",
   "metadata": {},
   "outputs": [
    {
     "name": "stdout",
     "output_type": "stream",
     "text": [
      "{'age': 25, 'city': 'New York'}\n"
     ]
    }
   ],
   "source": [
    "sampleDict = {\n",
    "   \"name\": \"Kelly\",\n",
    "   \"age\": 25,\n",
    "   \"salary\": 8000,\n",
    "   \"city\": \"New York\"\n",
    "}\n",
    "\n",
    "keysToRemove = [\"name\", \"salary\"]\n",
    "\n",
    "\n",
    "sampleDict = {key: sampleDict[key] for key in sampleDict if key not in keysToRemove}\n",
    "\n",
    "print(sampleDict)\n"
   ]
  },
  {
   "cell_type": "code",
   "execution_count": null,
   "id": "68f9e8df",
   "metadata": {},
   "outputs": [],
   "source": []
  }
 ],
 "metadata": {
  "kernelspec": {
   "display_name": "Python 3 (ipykernel)",
   "language": "python",
   "name": "python3"
  },
  "language_info": {
   "codemirror_mode": {
    "name": "ipython",
    "version": 3
   },
   "file_extension": ".py",
   "mimetype": "text/x-python",
   "name": "python",
   "nbconvert_exporter": "python",
   "pygments_lexer": "ipython3",
   "version": "3.11.4"
  }
 },
 "nbformat": 4,
 "nbformat_minor": 5
}
