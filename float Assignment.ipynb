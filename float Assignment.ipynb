{
 "cells": [
  {
   "cell_type": "markdown",
   "id": "48f2b4a8",
   "metadata": {},
   "source": [
    "## FLOAT ASSIGNMENT\n"
   ]
  },
  {
   "cell_type": "markdown",
   "id": "0f5faf0f",
   "metadata": {},
   "source": [
    "Q 1 Declare a float value and store it in a variable.\n",
    "Check the type and print the id of the same."
   ]
  },
  {
   "cell_type": "code",
   "execution_count": 2,
   "id": "9d4a4f0f",
   "metadata": {},
   "outputs": [
    {
     "name": "stdout",
     "output_type": "stream",
     "text": [
      "Value: 50.5\n",
      "Type: <class 'float'>\n",
      "ID: 2491913912176\n"
     ]
    }
   ],
   "source": [
    "a = 50.5\n",
    "\n",
    "\n",
    "variable_type = type(a)\n",
    "\n",
    "variable_id = id(a)\n",
    "\n",
    "print(f\"Value: {a}\")\n",
    "print(f\"Type: {variable_type}\")\n",
    "print(f\"ID: {variable_id}\")"
   ]
  },
  {
   "cell_type": "markdown",
   "id": "c61f99d8",
   "metadata": {},
   "source": [
    "Q 2 Arithmetic Operations on float\n",
    "Take two different float values.\n",
    "Store them in two different variables.\n",
    "Do below operations on them:-\n",
    "Find sum of both numbers\n",
    "Find difference between them\n",
    "Find the product of both numbers.\n",
    "Find value after dividing first num with second number\n",
    "Find the remainder after dividing first number with second number\n",
    "Find the quotient after dividing first number with second number\n",
    "Find the result of the first num to the power of the second number."
   ]
  },
  {
   "cell_type": "code",
   "execution_count": 3,
   "id": "4acc99ae",
   "metadata": {},
   "outputs": [
    {
     "name": "stdout",
     "output_type": "stream",
     "text": [
      "25.9\n",
      "-4.9\n",
      "161.70000000000002\n",
      "0.6818181818181818\n",
      "10.5\n",
      "0.0\n",
      "5324945971819706.0\n"
     ]
    }
   ],
   "source": [
    "a=10.5\n",
    "b=15.4\n",
    "print(a+b)\n",
    "print(a-b)\n",
    "print(a*b)\n",
    "print(a/b)\n",
    "print(a%b)\n",
    "print(a//b)\n",
    "print(a**b)"
   ]
  },
  {
   "cell_type": "markdown",
   "id": "64b581c4",
   "metadata": {},
   "source": [
    "Q 3 Comparison Operators on float\n",
    "Take two different float values.\n",
    "Store them in two different variables.\n",
    "Do below operations on them:-\n",
    "Compare these two numbers with below operator:-\n",
    "Greater than, '>'\n",
    "Smaller than, '<'\n",
    "Greater than or equal to, '>='\n",
    "Less than or equal to, '<='\n",
    "Observe their output(return type should be boolean)"
   ]
  },
  {
   "cell_type": "code",
   "execution_count": 4,
   "id": "f7fc8343",
   "metadata": {},
   "outputs": [
    {
     "name": "stdout",
     "output_type": "stream",
     "text": [
      "False\n",
      "True\n",
      "False\n",
      "True\n"
     ]
    }
   ],
   "source": [
    "a=20.5\n",
    "b=30.5\n",
    "print(a>b)\n",
    "print(a<b)\n",
    "print(a>=b)\n",
    "print(a<=b)"
   ]
  },
  {
   "cell_type": "markdown",
   "id": "ee225254",
   "metadata": {},
   "source": [
    "Q 4 Equality Operator\n",
    "Take two different float values.\n",
    "Store them in two different variables.\n",
    "Equate them using equality operators (==, !=)\n",
    "Observe the output(return type should be boolean)"
   ]
  },
  {
   "cell_type": "code",
   "execution_count": 5,
   "id": "582546ca",
   "metadata": {},
   "outputs": [
    {
     "name": "stdout",
     "output_type": "stream",
     "text": [
      "False\n",
      "True\n"
     ]
    }
   ],
   "source": [
    "a=15.5\n",
    "b=10.3\n",
    "print(a==b)\n",
    "print(a!=b)"
   ]
  },
  {
   "cell_type": "markdown",
   "id": "ab8d815d",
   "metadata": {},
   "source": [
    "Q 5 Logical operators\n",
    "Observe the output of below code\n",
    "Cross check the output manually\n",
    "print(10.20 and 20.30) #both are true and second value taken\n",
    ">Output is 20.3\n",
    "print(0.0 and 20.30) #First is false so first value\n",
    "taken->Output is 0.0\n",
    "\n",
    "print(20.30 and 0.0) #Goes to till second and second value is\n",
    "false so second is taken>Output is 0.0\n",
    "print(0.0 and 0.0) #First is false so first value is\n",
    "taken->Output is 0.0\n",
    "print(10.20 or 20.30) #First is True so first value is\n",
    "taken>Output is 10.2\n",
    "print(0.0 or 20.30) #Goes to till second and second is true\n",
    "second value is taken->Output is 20.3\n",
    "print(20.30 or 0.0) #First is True so first value is\n",
    "taken->Output is 20.3\n",
    "print(0.0 or 0.0) #Goes to till second and second is also\n",
    "false and second value is taken>Output is 0.0\n",
    "print(not 10.20) #-Not of true is false->Output is False\n",
    "print(not 0.0) #Not of false is True>Output is True"
   ]
  },
  {
   "cell_type": "code",
   "execution_count": 6,
   "id": "e63e6b8f",
   "metadata": {},
   "outputs": [
    {
     "name": "stdout",
     "output_type": "stream",
     "text": [
      "20.3\n",
      "0.0\n",
      "0.0\n",
      "0.0\n",
      "10.2\n",
      "20.3\n",
      "20.3\n",
      "0.0\n",
      "False\n",
      "True\n"
     ]
    }
   ],
   "source": [
    "print(10.20 and 20.30)\n",
    "print(0.0 and 20.30)\n",
    "print(20.30 and 0.0)\n",
    "print(0.0 and 0.0)\n",
    "print(10.20 or 20.30)\n",
    "print(0.0 or 20.30)\n",
    "print(20.30 or 0.0)\n",
    "print(0.0 or 0.0)\n",
    "print(not 10.20)\n",
    "print(not 0.0)"
   ]
  },
  {
   "cell_type": "markdown",
   "id": "e4854bee",
   "metadata": {},
   "source": [
    "Q 6 What is the output of expression inside print statement. Cross check\n",
    "before running the program.\n",
    "a = 10.20\n",
    "b - 10.20\n",
    "print(a is b) #True or False? True 10.20<256\n",
    "print(a is not b) #True or False? False\n",
    "Why the Id of float values are different when the same value is\n",
    "assigned to two different variables\n",
    "ex: a = 10.5 b=10.5. but id will be same if I assign the variable\n",
    "having float i.e. a=c then both a and c's Id are same"
   ]
  },
  {
   "cell_type": "code",
   "execution_count": 13,
   "id": "5b071f2f",
   "metadata": {},
   "outputs": [
    {
     "name": "stdout",
     "output_type": "stream",
     "text": [
      "True\n",
      "False\n"
     ]
    }
   ],
   "source": [
    "a=10.20\n",
    "b=10.20\n",
    "print(a is b)\n",
    "print(a is not b)"
   ]
  },
  {
   "cell_type": "markdown",
   "id": "410f8ba7",
   "metadata": {},
   "source": [
    "id of both variables are different because Python internally optimizes the storage of small integers and some other common objects. For example, Python caches small integers and common floating-point numbers in a range, so when you assign the same value to different variables, they may refer to the same object to save memory. However, this behavior is not guaranteed for all floating-point numbers, especially for values like 10.20."
   ]
  },
  {
   "cell_type": "markdown",
   "id": "eec05418",
   "metadata": {},
   "source": [
    "Q7 Bitwise operation is not applicable between instances of float.\n",
    "Why the Id of float values are different when the same value is\n",
    "assigned to two different variables\n",
    "ex: a = 10.5 b=10.5. but id will be same if I assign the variable\n",
    "having float i.e. a=c then both a and c's Id are same\n",
    "Object reusability concept is not applicable on float values."
   ]
  },
  {
   "cell_type": "code",
   "execution_count": 1,
   "id": "7908e092",
   "metadata": {},
   "outputs": [
    {
     "name": "stdout",
     "output_type": "stream",
     "text": [
      "2235467480656\n",
      "2235448210512\n",
      "2235467480656\n"
     ]
    }
   ],
   "source": [
    "a = 10.5\n",
    "b = 10.5\n",
    "c = a\n",
    "\n",
    "print(id(a))  # The id of 'a' will typically be different from 'b'.\n",
    "print(id(b))  # The id of 'b' will typically be different from 'a'.\n",
    "print(id(c))  # The id of 'c' will typically be the same as 'a'.\n",
    "\n",
    "# However, if you use a small integer (e.g., 5), you'll likely get the same id for 'a' and 'b'.\n",
    " \n"
   ]
  },
  {
   "cell_type": "code",
   "execution_count": 2,
   "id": "3251e77f",
   "metadata": {},
   "outputs": [
    {
     "name": "stdout",
     "output_type": "stream",
     "text": [
      "2235467480496\n",
      "2235467469168\n"
     ]
    }
   ],
   "source": [
    "a = 10.5\n",
    "b = 10.5\n",
    "\n",
    "print(id(a))  # The id of 'a' will be different from 'b'.\n",
    "print(id(b))  # The id of 'b' will be different from 'a'.\n"
   ]
  },
  {
   "cell_type": "markdown",
   "id": "302c8a9c",
   "metadata": {},
   "source": [
    "In this case, a and b are two separate float objects with the same value, but they have different memory addresses (different ids)."
   ]
  },
  {
   "cell_type": "code",
   "execution_count": 4,
   "id": "ed1bebf2",
   "metadata": {},
   "outputs": [
    {
     "name": "stdout",
     "output_type": "stream",
     "text": [
      "2235448210512\n",
      "2235448210512\n"
     ]
    }
   ],
   "source": [
    "a = 10.5\n",
    "c = a\n",
    "\n",
    "print(id(a))  # The id of 'a' and 'c' will be the same.\n",
    "print(id(c))  # The id of 'c' and 'a' will be the same.\n"
   ]
  },
  {
   "cell_type": "markdown",
   "id": "7dc04d4a",
   "metadata": {},
   "source": [
    "In this case, c is assigned the value of a, so they both reference the same float object in memory, and their ids are the same."
   ]
  },
  {
   "cell_type": "markdown",
   "id": "0163d82e",
   "metadata": {},
   "source": [
    "Q 8 Membership operation\n",
    "in, not in are two membership operators and it returns boolean value\n",
    "print('2.7' in 'Python2.7.8') #True\n",
    "print(10.20 in [10,10.20,10+20j,'Python']) #True\n",
    "print(10.20 in (10,10.20,10+20j,'Python')) # True\n",
    "print(20.30 in {1,20.30,30+40j}) # True\n",
    "print(2.3 in {1:100, 2.3:200, 30+40j:300}) # True\n",
    "print(10 in range(20)) # True"
   ]
  },
  {
   "cell_type": "code",
   "execution_count": 5,
   "id": "c7eb3aae",
   "metadata": {},
   "outputs": [
    {
     "name": "stdout",
     "output_type": "stream",
     "text": [
      "True\n",
      "True\n",
      "True\n",
      "True\n",
      "True\n",
      "True\n"
     ]
    }
   ],
   "source": [
    "print('2.7' in 'Python2.7.8')\n",
    "print(10.20 in [10,10.20,10+20j,'Python'])\n",
    "print(10.20 in (10,10.20,10+20j,'Python'))\n",
    "print(20.30 in {1,20.30,30+40j})\n",
    "print(2.3 in {1:100, 2.3:200, 30+40j:300})\n",
    "print(10 in range(20))"
   ]
  },
  {
   "cell_type": "code",
   "execution_count": null,
   "id": "0f84829b",
   "metadata": {},
   "outputs": [],
   "source": []
  },
  {
   "cell_type": "code",
   "execution_count": null,
   "id": "99df0ee9",
   "metadata": {},
   "outputs": [],
   "source": []
  }
 ],
 "metadata": {
  "kernelspec": {
   "display_name": "Python 3 (ipykernel)",
   "language": "python",
   "name": "python3"
  },
  "language_info": {
   "codemirror_mode": {
    "name": "ipython",
    "version": 3
   },
   "file_extension": ".py",
   "mimetype": "text/x-python",
   "name": "python",
   "nbconvert_exporter": "python",
   "pygments_lexer": "ipython3",
   "version": "3.11.4"
  }
 },
 "nbformat": 4,
 "nbformat_minor": 5
}
