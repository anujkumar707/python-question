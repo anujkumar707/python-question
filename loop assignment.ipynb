{
 "cells": [
  {
   "cell_type": "markdown",
   "id": "a625aade",
   "metadata": {},
   "source": [
    "Q.1W. A P. which takes one number from 0 to 9 from the user and prints\n",
    "it in the word. And if the word is not from 0 to 9 then\n",
    "it should print that number is outside of the range and program should\n",
    "exit.\n",
    "For exapmple:-\n",
    "input = 1\n",
    "output = one\n"
   ]
  },
  {
   "cell_type": "code",
   "execution_count": 1,
   "id": "fed7a0e7",
   "metadata": {},
   "outputs": [
    {
     "name": "stdout",
     "output_type": "stream",
     "text": [
      "Enter a number from 0 to 9: 5\n",
      "five\n"
     ]
    }
   ],
   "source": [
    "# Define a dictionary to map numbers to words\n",
    "number_to_word = {\n",
    "    0: \"zero\",\n",
    "    1: \"one\",\n",
    "    2: \"two\",\n",
    "    3: \"three\",\n",
    "    4: \"four\",\n",
    "    5: \"five\",\n",
    "    6: \"six\",\n",
    "    7: \"seven\",\n",
    "    8: \"eight\",\n",
    "    9: \"nine\",\n",
    "}\n",
    "\n",
    "# Get input from the user\n",
    "user_input = input(\"Enter a number from 0 to 9: \")\n",
    "\n",
    "# Check if the input is a digit and within the range 0 to 9\n",
    "if user_input.isdigit():\n",
    "    number = int(user_input)\n",
    "    if 0 <= number <= 9:\n",
    "        # Print the word representation of the number\n",
    "        print(number_to_word[number])\n",
    "    else:\n",
    "        print(\"Number is outside of the range.\")\n",
    "else:\n",
    "    print(\"Invalid input. Please enter a number from 0 to 9.\")\n"
   ]
  },
  {
   "cell_type": "markdown",
   "id": "ad1ff6cc",
   "metadata": {},
   "source": [
    "Q2. W. A P. to implement calculator but the operation to be done and two\n",
    "numbers will be taken as input from user:-\n",
    "Operation console should show below:-\n",
    "Please select any one operation from below:-\n",
    "* To add enter 1\n",
    "* to subtract enter 2\n",
    "* To multiply enter 3\n",
    "* To divide enter 4\n",
    "* To divide and find quotient enter 5\n",
    "* To divide and find remainder enter 6\n",
    "* To divide and find num1 to the power of num2 enter 7\n",
    "* To Come out of the program enter 8"
   ]
  },
  {
   "cell_type": "code",
   "execution_count": 7,
   "id": "82a008ce",
   "metadata": {},
   "outputs": [
    {
     "name": "stdout",
     "output_type": "stream",
     "text": [
      "Enter 1st number: 3\n",
      "Enter 2nd number: 4\n",
      "Please select any one operation from below:-\n",
      "\n",
      "  \tTo add enter 1\n",
      "\n",
      "  \tTo subtract enter 2\n",
      "\n",
      "  \tTo multiply enter 3\n",
      "\n",
      "  \tTo divide enter 4\n",
      "\n",
      "  \tTo divide and find quotient enter 5\n",
      "\n",
      "  \tTo divide and find remainder enter 6\n",
      "\n",
      "  \tTo divide and find num1 to the power of num2 enter 7\n",
      "\n",
      "  \tTo exit Enter 8\n",
      "\n",
      "  1\n",
      "7\n"
     ]
    }
   ],
   "source": [
    "import sys\n",
    "num1 = int(input('Enter 1st number: '))\n",
    "num2 = int(input('Enter 2nd number: '))\n",
    "\n",
    "op = int(input('''Please select any one operation from below:-\\n\n",
    "  \\tTo add enter 1\\n\n",
    "  \\tTo subtract enter 2\\n\n",
    "  \\tTo multiply enter 3\\n\n",
    "  \\tTo divide enter 4\\n\n",
    "  \\tTo divide and find quotient enter 5\\n\n",
    "  \\tTo divide and find remainder enter 6\\n\n",
    "  \\tTo divide and find num1 to the power of num2 enter 7\\n\n",
    "  \\tTo exit Enter 8\\n\n",
    "  '''))\n",
    "if op == 1:\n",
    "    print(num1+num2)\n",
    "elif op == 2:\n",
    "    print(num1-num2)\n",
    "elif op == 3:\n",
    "    print(num1*num2)\n",
    "elif op == 4:\n",
    "    print(num1/num2)\n",
    "elif op == 5:\n",
    "    print(num1//num2)\n",
    "elif op == 6:\n",
    "    print(num1%num2)  \n",
    "elif op == 7:\n",
    "    print(num1**num2)\n",
    "elif op == 8:\n",
    "    sys.exit(0)\n",
    "else:\n",
    "    print('wrong input\\nTry Again\\n\\n')\n"
   ]
  },
  {
   "cell_type": "markdown",
   "id": "e7648f86",
   "metadata": {},
   "source": [
    "Q3. W A P to check whether a year entered by user is an leap year or not?\n",
    "Check with below input:-\n",
    "leap year:- 2012, 1968, 2004, 1200, 1600,2400\n",
    "Non-lear year:- 1971, 2006, 1700,1800,1900"
   ]
  },
  {
   "cell_type": "code",
   "execution_count": 8,
   "id": "9a0ca61d",
   "metadata": {},
   "outputs": [
    {
     "name": "stdout",
     "output_type": "stream",
     "text": [
      "Enter a year: 2004\n",
      "2004 is a leap year.\n"
     ]
    }
   ],
   "source": [
    "# Get input from the user\n",
    "year = int(input(\"Enter a year: \"))\n",
    "\n",
    "# Check if the year is a leap year\n",
    "if (year % 4 == 0 and year % 100 != 0) or (year % 400 == 0):\n",
    "    print(f\"{year} is a leap year.\")\n",
    "else:\n",
    "    print(f\"{year} is not a leap year.\")\n"
   ]
  },
  {
   "cell_type": "markdown",
   "id": "9c5b5bb8",
   "metadata": {},
   "source": [
    "Q4. W A P which takes one number from the user and checks whether it is\n",
    "an even or odd number?, If it even then prints number is\n",
    "even number else prints that number is odd number."
   ]
  },
  {
   "cell_type": "code",
   "execution_count": 9,
   "id": "983c93c2",
   "metadata": {},
   "outputs": [
    {
     "name": "stdout",
     "output_type": "stream",
     "text": [
      "Enter a number: 6\n",
      "6 is an even number.\n"
     ]
    }
   ],
   "source": [
    "# Get input from the user\n",
    "number = int(input(\"Enter a number: \"))\n",
    "\n",
    "# Check if the number is even or odd\n",
    "if number % 2 == 0:\n",
    "    print(f\"{number} is an even number.\")\n",
    "else:\n",
    "    print(f\"{number} is an odd number.\")\n"
   ]
  },
  {
   "cell_type": "markdown",
   "id": "70b44345",
   "metadata": {},
   "source": [
    "Q5. W A P which takes two numbers from the user and prints below output:-\n",
    "1. num1 is greater than num2 if num1 is greater than num2\n",
    "2. num1 is smaller than num2 if num1 is smaller than num2\n",
    "3. num1 is equal to num2 if num1 and num2 are equal\n",
    "Note:- 1. Do this problem using if - else\n",
    "2. Do this using ternary operator"
   ]
  },
  {
   "cell_type": "code",
   "execution_count": 10,
   "id": "252839ea",
   "metadata": {},
   "outputs": [
    {
     "name": "stdout",
     "output_type": "stream",
     "text": [
      "Enter the first number: 8\n",
      "Enter the second number: 4\n",
      "8.0 is greater than 4.0\n"
     ]
    }
   ],
   "source": [
    "# Get input from the user for two numbers\n",
    "num1 = float(input(\"Enter the first number: \"))\n",
    "num2 = float(input(\"Enter the second number: \"))\n",
    "\n",
    "# Compare the two numbers using if-else statements\n",
    "if num1 > num2:\n",
    "    print(f\"{num1} is greater than {num2}\")\n",
    "elif num1 < num2:\n",
    "    print(f\"{num1} is smaller than {num2}\")\n",
    "else:\n",
    "    print(f\"{num1} is equal to {num2}\")\n"
   ]
  },
  {
   "cell_type": "code",
   "execution_count": 11,
   "id": "ca2130c3",
   "metadata": {},
   "outputs": [
    {
     "name": "stdout",
     "output_type": "stream",
     "text": [
      "Enter the first number: 8\n",
      "Enter the second number: 4\n",
      "8.0 is greater than 4.0\n"
     ]
    }
   ],
   "source": [
    "# Get input from the user for two numbers\n",
    "num1 = float(input(\"Enter the first number: \"))\n",
    "num2 = float(input(\"Enter the second number: \"))\n",
    "\n",
    "# Compare the two numbers using the ternary operator\n",
    "result = (f\"{num1} is greater than {num2}\" if num1 > num2 else\n",
    "          (f\"{num1} is smaller than {num2}\" if num1 < num2 else\n",
    "           f\"{num1} is equal to {num2}\"))\n",
    "\n",
    "print(result)\n"
   ]
  },
  {
   "cell_type": "markdown",
   "id": "7381bc75",
   "metadata": {},
   "source": [
    "Q6. W A P which takes three numbers from the user and prints below\n",
    "output:-\n",
    "1. num1 is greater than num2 and num3 if num1 is greater than num2\n",
    "and num3\n",
    "2. num2 is greater than num1 and num3 if num2 is greater than num1\n",
    "and num3\n",
    "\n",
    "3. num3 is greater than num1 and num2 if num3 is greater than num1\n",
    "and num2\n",
    "Note:- 1. Do this problem using if - elif - else\n",
    "2. Do this using ternary operator\n",
    "a = a if a>b else b"
   ]
  },
  {
   "cell_type": "code",
   "execution_count": 12,
   "id": "7998bdfc",
   "metadata": {},
   "outputs": [
    {
     "name": "stdout",
     "output_type": "stream",
     "text": [
      "Enter the first number: 5\n",
      "Enter the second number: 2\n",
      "Enter the third number: 7\n",
      "7.0 is greater than 5.0 and 2.0\n"
     ]
    }
   ],
   "source": [
    "# Get input from the user for three numbers\n",
    "num1 = float(input(\"Enter the first number: \"))\n",
    "num2 = float(input(\"Enter the second number: \"))\n",
    "num3 = float(input(\"Enter the third number: \"))\n",
    "\n",
    "# Compare the three numbers using if-elif-else statements\n",
    "if num1 > num2 and num1 > num3:\n",
    "    print(f\"{num1} is greater than {num2} and {num3}\")\n",
    "elif num2 > num1 and num2 > num3:\n",
    "    print(f\"{num2} is greater than {num1} and {num3}\")\n",
    "elif num3 > num1 and num3 > num2:\n",
    "    print(f\"{num3} is greater than {num1} and {num2}\")\n",
    "else:\n",
    "    print(\"No single number is greater than the other two.\")\n"
   ]
  },
  {
   "cell_type": "code",
   "execution_count": 13,
   "id": "572359a7",
   "metadata": {},
   "outputs": [
    {
     "name": "stdout",
     "output_type": "stream",
     "text": [
      "Enter the first number: 5\n",
      "Enter the second number: 2\n",
      "Enter the third number: 7\n",
      "7.0 is greater than 5.0 and 2.0\n"
     ]
    }
   ],
   "source": [
    "# Get input from the user for three numbers\n",
    "num1 = float(input(\"Enter the first number: \"))\n",
    "num2 = float(input(\"Enter the second number: \"))\n",
    "num3 = float(input(\"Enter the third number: \"))\n",
    "\n",
    "# Compare the three numbers using the ternary operator\n",
    "result = (f\"{num1} is greater than {num2} and {num3}\" if num1 > num2 and num1 > num3 else\n",
    "          (f\"{num2} is greater than {num1} and {num3}\" if num2 > num1 and num2 > num3 else\n",
    "           (f\"{num3} is greater than {num1} and {num2}\" if num3 > num1 and num3 > num2 else\n",
    "            \"No single number is greater than the other two\")))\n",
    "\n",
    "print(result)\n"
   ]
  },
  {
   "cell_type": "markdown",
   "id": "1d356ee6",
   "metadata": {},
   "source": [
    "Q7. Write a Python program to find the length of the my_str using loop:-\n",
    "Input:- 'Write a Python program to find the length of the my_str'\n",
    "Output:- 55"
   ]
  },
  {
   "cell_type": "markdown",
   "id": "7e58ddce",
   "metadata": {},
   "source": [
    "## Loops - for loop, while loop"
   ]
  },
  {
   "cell_type": "code",
   "execution_count": 15,
   "id": "8ae88075",
   "metadata": {},
   "outputs": [
    {
     "name": "stdout",
     "output_type": "stream",
     "text": [
      "Length of the string: 55\n"
     ]
    }
   ],
   "source": [
    "my_str = 'Write a Python program to find the length of the my_str'\n",
    "\n",
    "# Initialize a variable to count the characters\n",
    "length = 0\n",
    "\n",
    "# Iterate through the characters in the string using a loop\n",
    "for char in my_str:\n",
    "    length += 1\n",
    "\n",
    "# Print the length of the string\n",
    "print(\"Length of the string:\", length)\n"
   ]
  },
  {
   "cell_type": "markdown",
   "id": "cb79bb0c",
   "metadata": {},
   "source": [
    "Q8. Write a Python program to find the total number of times letter 'p'\n",
    "is appeared in the below string using loop:-\n",
    "Input:- 'peter piper picked a peck of pickled peppers.\\n'\n",
    "Output:- 9"
   ]
  },
  {
   "cell_type": "code",
   "execution_count": 16,
   "id": "9541d440",
   "metadata": {},
   "outputs": [
    {
     "name": "stdout",
     "output_type": "stream",
     "text": [
      "The letter 'p' appears 9 times in the string.\n"
     ]
    }
   ],
   "source": [
    "input_str = 'peter piper picked a peck of pickled peppers.\\n'\n",
    "search_char = 'p'\n",
    "\n",
    "# Initialize a variable to count the occurrences\n",
    "count = 0\n",
    "\n",
    "# Iterate through the characters in the string using a loop\n",
    "for char in input_str:\n",
    "    if char == search_char:\n",
    "        count += 1\n",
    "\n",
    "# Print the total count of the letter 'p'\n",
    "print(f\"The letter '{search_char}' appears {count} times in the string.\")\n"
   ]
  },
  {
   "cell_type": "markdown",
   "id": "fd8bde13",
   "metadata": {},
   "source": [
    "Q9. Write a Python Program, to print all the indexes of all occurences of\n",
    "letter 'p' appeared in the string using loop:-\n",
    "Input:- 'peter piper picked a peck of pickled peppers.'\n",
    "Output:-\n",
    "0\n",
    "6\n",
    "8\n",
    "12\n",
    "21\n",
    "29\n",
    "37\n",
    "39\n",
    "40"
   ]
  },
  {
   "cell_type": "code",
   "execution_count": 17,
   "id": "78c29db3",
   "metadata": {},
   "outputs": [
    {
     "name": "stdout",
     "output_type": "stream",
     "text": [
      "0\n",
      "6\n",
      "8\n",
      "12\n",
      "21\n",
      "29\n",
      "37\n",
      "39\n",
      "40\n"
     ]
    }
   ],
   "source": [
    "input_str = 'peter piper picked a peck of pickled peppers.'\n",
    "search_char = 'p'\n",
    "\n",
    "# Initialize an empty list to store the indexes\n",
    "indexes = []\n",
    "\n",
    "# Iterate through the characters in the string using a loop\n",
    "for index, char in enumerate(input_str):\n",
    "    if char == search_char:\n",
    "        indexes.append(index)\n",
    "\n",
    "# Print the indexes of 'p' occurrences\n",
    "for index in indexes:\n",
    "    print(index)\n"
   ]
  },
  {
   "cell_type": "markdown",
   "id": "c19ecb98",
   "metadata": {},
   "source": [
    "Q10. Write a python program to find below output using loop:-\n",
    "Input:- 'peter piper picked a peck of pickled peppers.'\n",
    "Output:- ['peter', 'piper', 'picked', 'a', 'peck', 'of', 'pickled',\n",
    "'peppers']"
   ]
  },
  {
   "cell_type": "code",
   "execution_count": 18,
   "id": "2b4ea97b",
   "metadata": {},
   "outputs": [
    {
     "name": "stdout",
     "output_type": "stream",
     "text": [
      "['peter', 'piper', 'picked', 'a', 'peck', 'of', 'pickled', 'peppers']\n"
     ]
    }
   ],
   "source": [
    "input_str = 'peter piper picked a peck of pickled peppers.'\n",
    "\n",
    "# Initialize an empty list to store the words\n",
    "words = []\n",
    "word = \"\"\n",
    "\n",
    "# Iterate through the characters in the string using a loop\n",
    "for char in input_str:\n",
    "    if char != ' ' and char != '.':\n",
    "        word += char\n",
    "    else:\n",
    "        if word:\n",
    "            words.append(word)\n",
    "        word = \"\"\n",
    "\n",
    "# Add the last word if the string doesn't end with a space or period\n",
    "if word:\n",
    "    words.append(word)\n",
    "\n",
    "# Print the list of words\n",
    "print(words)\n"
   ]
  },
  {
   "cell_type": "markdown",
   "id": "ab2e667f",
   "metadata": {},
   "source": [
    "Q11. Write a python program to find below output using loop:-\n",
    "Input:- 'peter piper picked a peck of pickled peppers.'\n",
    "Output:- 'peppers pickled of peck a picked piper peter'"
   ]
  },
  {
   "cell_type": "code",
   "execution_count": 19,
   "id": "f8397e10",
   "metadata": {},
   "outputs": [
    {
     "name": "stdout",
     "output_type": "stream",
     "text": [
      "peppers. pickled of peck a picked piper peter\n"
     ]
    }
   ],
   "source": [
    "input_str = 'peter piper picked a peck of pickled peppers.'\n",
    "\n",
    "# Split the input string into words\n",
    "words = input_str.split()\n",
    "\n",
    "# Initialize an empty list to store the reversed words\n",
    "reversed_words = []\n",
    "\n",
    "# Iterate through the words in reverse order and add them to the reversed list\n",
    "for word in reversed(words):\n",
    "    reversed_words.append(word)\n",
    "\n",
    "# Join the reversed words to form a new string\n",
    "output_str = ' '.join(reversed_words)\n",
    "\n",
    "# Print the reversed string\n",
    "print(output_str)\n"
   ]
  },
  {
   "cell_type": "markdown",
   "id": "fcfa51de",
   "metadata": {},
   "source": [
    "Q12. Write a python program to find below output using loop:-\n",
    "Input:- 'peter piper picked a peck of pickled peppers.'\n",
    "Output:- '.sreppep delkcip fo kcep a dekcip repip retep'"
   ]
  },
  {
   "cell_type": "code",
   "execution_count": 20,
   "id": "b6dc7753",
   "metadata": {},
   "outputs": [
    {
     "name": "stdout",
     "output_type": "stream",
     "text": [
      ".sreppep delkcip fo kcep a dekcip repip retep\n"
     ]
    }
   ],
   "source": [
    "input_str = 'peter piper picked a peck of pickled peppers.'\n",
    "\n",
    "# Initialize an empty string to store the reversed characters\n",
    "reversed_str = ''\n",
    "\n",
    "# Iterate through the characters in the string in reverse order\n",
    "for char in reversed(input_str):\n",
    "    reversed_str += char\n",
    "\n",
    "# Print the reversed string\n",
    "print(reversed_str)\n"
   ]
  },
  {
   "cell_type": "markdown",
   "id": "2b8e8f48",
   "metadata": {},
   "source": [
    "Q13. Write a python program to find below output using loop:-\n",
    "Input:- 'peter piper picked a peck of pickled peppers.'\n",
    "Output:- 'retep repip dekcip a kcep fo delkcip sreppep'"
   ]
  },
  {
   "cell_type": "code",
   "execution_count": 22,
   "id": "babda773",
   "metadata": {},
   "outputs": [
    {
     "name": "stdout",
     "output_type": "stream",
     "text": [
      "retep repip dekcip a kcep fo delkcip .sreppep\n"
     ]
    }
   ],
   "source": [
    "input_str = 'peter piper picked a peck of pickled peppers.'\n",
    "\n",
    "# Split the input string into words\n",
    "words = input_str.split()\n",
    "\n",
    "# Initialize an empty list to store the reversed words\n",
    "reversed_words = []\n",
    "\n",
    "# Iterate through the words and reverse each word\n",
    "for word in words:\n",
    "    reversed_word = ''\n",
    "    for char in reversed(word):\n",
    "        reversed_word += char\n",
    "    reversed_words.append(reversed_word)\n",
    "\n",
    "# Join the reversed words to form a new string\n",
    "output_str = ' '.join(reversed_words)\n",
    "\n",
    "# Print the reversed string\n",
    "print(output_str)\n",
    "\n"
   ]
  },
  {
   "cell_type": "markdown",
   "id": "bc0ec002",
   "metadata": {},
   "source": [
    "Q14. Write a python program to find below output using loop:-\n",
    "Input:- 'peter piper picked a peck of pickled peppers.'\n",
    "Output:- 'Peter Piper Picked A Peck Of Pickled Peppers'"
   ]
  },
  {
   "cell_type": "code",
   "execution_count": 24,
   "id": "86cf9bce",
   "metadata": {},
   "outputs": [
    {
     "name": "stdout",
     "output_type": "stream",
     "text": [
      "Peter Piper Picked A Peck Of Pickled Peppers.\n"
     ]
    }
   ],
   "source": [
    "input_str = 'peter piper picked a peck of pickled peppers.'\n",
    "\n",
    "# Split the input string into words\n",
    "words = input_str.split()\n",
    "\n",
    "# Initialize an empty list to store the capitalized words\n",
    "capitalized_words = []\n",
    "\n",
    "# Iterate through the words and capitalize the first letter of each word\n",
    "for word in words:\n",
    "    capitalized_word = word[0].upper() + word[1:]\n",
    "    capitalized_words.append(capitalized_word)\n",
    "\n",
    "# Join the capitalized words to form a new string\n",
    "output_str = ' '.join(capitalized_words)\n",
    "\n",
    "# Print the capitalized string\n",
    "print(output_str)\n",
    "\n"
   ]
  },
  {
   "cell_type": "markdown",
   "id": "d5ce4027",
   "metadata": {},
   "source": [
    "Q15. Write a python program to find below output using loop:-\n",
    "Input:- 'Peter Piper Picked A Peck Of Pickled Peppers.'\n",
    "Output:- 'Peter piper picked a peck of pickled peppers'"
   ]
  },
  {
   "cell_type": "code",
   "execution_count": 25,
   "id": "3bb3daa3",
   "metadata": {},
   "outputs": [
    {
     "name": "stdout",
     "output_type": "stream",
     "text": [
      "Peter piper picked a peck of pickled peppers.\n"
     ]
    }
   ],
   "source": [
    "input_str = 'Peter Piper Picked A Peck Of Pickled Peppers.'\n",
    "\n",
    "# Split the input string into words\n",
    "words = input_str.split()\n",
    "\n",
    "# Ensure the first word is capitalized, and the rest are in lowercase\n",
    "output_words = [words[0].capitalize()] + [word.lower() for word in words[1:]]\n",
    "\n",
    "# Join the words to form a new string\n",
    "output_str = ' '.join(output_words)\n",
    "\n",
    "# Print the resulting sentence\n",
    "print(output_str)\n"
   ]
  },
  {
   "cell_type": "markdown",
   "id": "9c96fd29",
   "metadata": {},
   "source": [
    "Q16. Write a python program to implement index method using loop. If\n",
    "sub_str is found in my_str then it will print the index\n",
    "of first occurrence of first character of matching string in my_str:-\n",
    "Input:- my_str = 'Peter Piper Picked A Peck Of Pickled Peppers.',\n",
    "sub_str = 'Pickl'\n",
    "Output:- 29"
   ]
  },
  {
   "cell_type": "code",
   "execution_count": 27,
   "id": "1d695ed5",
   "metadata": {},
   "outputs": [
    {
     "name": "stdout",
     "output_type": "stream",
     "text": [
      "Index of the first occurrence of 'Pickl' in 'my_str' is 29.\n"
     ]
    }
   ],
   "source": [
    "my_str = 'Peter Piper Picked A Peck Of Pickled Peppers.'\n",
    "sub_str = 'Pickl'\n",
    "\n",
    "# Initialize an index variable to keep track of the position\n",
    "index = -1\n",
    "\n",
    "# Iterate through the characters in my_str\n",
    "for i in range(len(my_str) - len(sub_str) + 1):\n",
    "    if my_str[i:i + len(sub_str)] == sub_str:\n",
    "        index = i\n",
    "        break\n",
    "\n",
    "# Print the index of the first occurrence of the substring\n",
    "if index != -1:\n",
    "    print(f\"Index of the first occurrence of '{sub_str}' in 'my_str' is {index}.\")\n",
    "else:\n",
    "    print(f\"'{sub_str}' is not found in 'my_str'.\")\n"
   ]
  },
  {
   "cell_type": "markdown",
   "id": "36a986e5",
   "metadata": {},
   "source": [
    "Q17. Write a python program to implement replace method using loop. If\n",
    "sub_str is found in my_str then it will replace the first\n",
    "occurrence of sub_str with new_str else it will will print sub_str not\n",
    "found:-\n",
    "Input:- my_str = 'Peter Piper Picked A Peck Of Pickled Peppers.',\n",
    "sub_str = 'Peck', new_str = 'Pack'\n",
    "Output:- 'Peter Piper Picked A Pack Of Pickled Peppers.'"
   ]
  },
  {
   "cell_type": "code",
   "execution_count": 28,
   "id": "3089f43b",
   "metadata": {},
   "outputs": [
    {
     "name": "stdout",
     "output_type": "stream",
     "text": [
      "Peter Piper Picked A Packeck Of Pickled Peppers.\n"
     ]
    }
   ],
   "source": [
    "my_str = 'Peter Piper Picked A Peck Of Pickled Peppers.'\n",
    "sub_str = 'Peck'\n",
    "new_str = 'Pack'\n",
    "\n",
    "# Initialize an empty string to store the result\n",
    "result_str = ''\n",
    "\n",
    "# Initialize a flag to check if the substring has been found\n",
    "found = False\n",
    "\n",
    "# Iterate through the characters in my_str\n",
    "for i in range(len(my_str)):\n",
    "    if my_str[i:i + len(sub_str)] == sub_str and not found:\n",
    "        result_str += new_str\n",
    "        found = True\n",
    "        i += len(sub_str) - 1  # Skip the length of the replaced string\n",
    "    else:\n",
    "        result_str += my_str[i]\n",
    "\n",
    "# If the substring was not found, print a message\n",
    "if not found:\n",
    "    print(f\"'{sub_str}' not found in 'my_str'.\")\n",
    "else:\n",
    "    print(result_str)\n"
   ]
  },
  {
   "cell_type": "markdown",
   "id": "4149e71b",
   "metadata": {},
   "source": [
    "Q18. Write a python program to find below output (implements rjust and\n",
    "ljust) using loop:-\n",
    "Input:- 'Peter Piper Picked A Peck Of Pickled Peppers.', sub_str =\n",
    "'Peck',\n",
    "Output:- '*********************Peck********************'"
   ]
  },
  {
   "cell_type": "code",
   "execution_count": 29,
   "id": "5ab5cd34",
   "metadata": {},
   "outputs": [
    {
     "name": "stdout",
     "output_type": "stream",
     "text": [
      "*********************Peck********************\n"
     ]
    }
   ],
   "source": [
    "my_str = 'Peter Piper Picked A Peck Of Pickled Peppers.'\n",
    "sub_str = 'Peck'\n",
    "\n",
    "# Initialize an empty string to store the result\n",
    "result_str = ''\n",
    "\n",
    "# Find the starting and ending indexes for the sub_str\n",
    "start_index = my_str.find(sub_str)\n",
    "end_index = start_index + len(sub_str)\n",
    "\n",
    "if start_index == -1:\n",
    "    result_str = sub_str\n",
    "else:\n",
    "    # Fill the left part with asterisks\n",
    "    result_str += '*' * start_index\n",
    "\n",
    "    # Add the sub_str\n",
    "    result_str += sub_str\n",
    "\n",
    "    # Calculate the number of asterisks for the right part\n",
    "    remaining_length = len(my_str) - end_index\n",
    "    result_str += '*' * remaining_length\n",
    "\n",
    "# Print the result\n",
    "print(result_str)\n"
   ]
  },
  {
   "cell_type": "markdown",
   "id": "d115bae0",
   "metadata": {},
   "source": [
    "Q19. Write a python program to find below output using loop:-\n",
    "Input:- 'This is Python class', sep = ' is',\n",
    "Output:- ['This', 'is', 'Python class']"
   ]
  },
  {
   "cell_type": "code",
   "execution_count": 30,
   "id": "732b0a53",
   "metadata": {},
   "outputs": [
    {
     "name": "stdout",
     "output_type": "stream",
     "text": [
      "['This', ' Python class']\n"
     ]
    }
   ],
   "source": [
    "input_str = 'This is Python class'\n",
    "sep = ' is'\n",
    "\n",
    "# Initialize an empty list to store the split parts\n",
    "split_parts = []\n",
    "start = 0\n",
    "\n",
    "# Iterate through the characters in the input string using a loop\n",
    "for i in range(len(input_str)):\n",
    "    if input_str[i:i+len(sep)] == sep:\n",
    "        split_parts.append(input_str[start:i])\n",
    "        start = i + len(sep)\n",
    "\n",
    "# Add the remaining part after the last separator\n",
    "split_parts.append(input_str[start:])\n",
    "\n",
    "# Print the list of split parts\n",
    "print(split_parts)\n"
   ]
  },
  {
   "cell_type": "code",
   "execution_count": null,
   "id": "3146913f",
   "metadata": {},
   "outputs": [],
   "source": []
  }
 ],
 "metadata": {
  "kernelspec": {
   "display_name": "Python 3 (ipykernel)",
   "language": "python",
   "name": "python3"
  },
  "language_info": {
   "codemirror_mode": {
    "name": "ipython",
    "version": 3
   },
   "file_extension": ".py",
   "mimetype": "text/x-python",
   "name": "python",
   "nbconvert_exporter": "python",
   "pygments_lexer": "ipython3",
   "version": "3.11.4"
  }
 },
 "nbformat": 4,
 "nbformat_minor": 5
}
