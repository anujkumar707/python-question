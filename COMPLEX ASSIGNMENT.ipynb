{
 "cells": [
  {
   "cell_type": "markdown",
   "id": "f7ccda9f",
   "metadata": {},
   "source": [
    "## Complex Assignment"
   ]
  },
  {
   "cell_type": "markdown",
   "id": "570f7bb0",
   "metadata": {},
   "source": [
    "### Q 1 Declare a complex number and store it in a variable.\n",
    "### Check the type and print the id of the same."
   ]
  },
  {
   "cell_type": "code",
   "execution_count": 1,
   "id": "5af4b166",
   "metadata": {},
   "outputs": [
    {
     "name": "stdout",
     "output_type": "stream",
     "text": [
      "<class 'complex'>\n",
      "1800166934448\n"
     ]
    }
   ],
   "source": [
    "a=(2+3j)\n",
    "\n",
    "print(type(a))\n",
    "\n",
    "print(id(a))"
   ]
  },
  {
   "cell_type": "markdown",
   "id": "1d3eb8e9",
   "metadata": {},
   "source": [
    "### Q 2 Arithmetic Operations on complex number\n",
    "### Take two different complex numbers.\n",
    "### Store them in two different variables.\n",
    "### Do below operations on them:-\n",
    "### Find sum of both numbers\n",
    "### Find difference between them\n",
    "### Find the product of both numbers.\n",
    "### Find value after dividing first num with second number\n",
    "### Find the result of the first num to the power of the second number."
   ]
  },
  {
   "cell_type": "code",
   "execution_count": 2,
   "id": "0208706b",
   "metadata": {},
   "outputs": [
    {
     "name": "stdout",
     "output_type": "stream",
     "text": [
      "(13+11j)\n",
      "(-7-3j)\n",
      "(2+61j)\n",
      "(0.389261744966443+0.12751677852348997j)\n",
      "(-1753.7583456453822+14709.595032378103j)\n"
     ]
    }
   ],
   "source": [
    "a=(3+4j)\n",
    "b=(10+7j)\n",
    "print(a+b)\n",
    "print(a-b)\n",
    "print(a*b)\n",
    "print(a/b)\n",
    "print(a**b)"
   ]
  },
  {
   "cell_type": "markdown",
   "id": "64870544",
   "metadata": {},
   "source": [
    "#### Q 3 Comparison Operation not applicable between instance of complex \n",
    "#### values.\n",
    "#### Object reusability concept is not applicable on complex number"
   ]
  },
  {
   "cell_type": "code",
   "execution_count": 4,
   "id": "d430bf4f",
   "metadata": {},
   "outputs": [
    {
     "ename": "TypeError",
     "evalue": "'<' not supported between instances of 'complex' and 'complex'",
     "output_type": "error",
     "traceback": [
      "\u001b[1;31m---------------------------------------------------------------------------\u001b[0m",
      "\u001b[1;31mTypeError\u001b[0m                                 Traceback (most recent call last)",
      "Cell \u001b[1;32mIn[4], line 4\u001b[0m\n\u001b[0;32m      1\u001b[0m a \u001b[38;5;241m=\u001b[39m \u001b[38;5;241m3\u001b[39m \u001b[38;5;241m+\u001b[39m \u001b[38;5;241m4\u001b[39mj\n\u001b[0;32m      2\u001b[0m b \u001b[38;5;241m=\u001b[39m \u001b[38;5;241m2\u001b[39m \u001b[38;5;241m+\u001b[39m \u001b[38;5;241m5\u001b[39mj\n\u001b[1;32m----> 4\u001b[0m \u001b[38;5;28mprint\u001b[39m(a \u001b[38;5;241m<\u001b[39m b)  \u001b[38;5;66;03m# Compares based on magnitude; returns True.\u001b[39;00m\n\u001b[0;32m      5\u001b[0m \u001b[38;5;28mprint\u001b[39m(a \u001b[38;5;241m==\u001b[39m b)\n",
      "\u001b[1;31mTypeError\u001b[0m: '<' not supported between instances of 'complex' and 'complex'"
     ]
    }
   ],
   "source": [
    "a = 3 + 4j\n",
    "b = 2 + 5j\n",
    "\n",
    "print(a < b)  # Compares based on magnitude; returns True.\n",
    "print(a == b) # Compares real and imaginary parts; returns False.\n"
   ]
  },
  {
   "cell_type": "markdown",
   "id": "96787391",
   "metadata": {},
   "source": [
    " we can compare complex numbers using comparison operators like <, <=, >, >=, ==, and !=. Python compares complex numbers based on their real and imaginary parts."
   ]
  },
  {
   "cell_type": "code",
   "execution_count": 5,
   "id": "a1b90d06",
   "metadata": {},
   "outputs": [
    {
     "name": "stdout",
     "output_type": "stream",
     "text": [
      "1800180242192\n",
      "1800180244080\n",
      "1800180242192\n"
     ]
    }
   ],
   "source": [
    "a = 1 + 2j\n",
    "b = 1 + 2j\n",
    "c = a\n",
    "\n",
    "print(id(a))  # The id of 'a' and 'b' may be the same.\n",
    "print(id(b))  # The id of 'b' and 'a' may be the same.\n",
    "print(id(c))  # The id of 'c' will be the same as 'a'.\n"
   ]
  },
  {
   "cell_type": "markdown",
   "id": "b992bf59",
   "metadata": {},
   "source": [
    "However, when it comes to object reusability, Python's behavior is similar for complex numbers as it is for other immutable types like float. Python caches  some small complex numbers for performance reasons. This means that for small complex numbers, if you assign the same value to different variables, they may refer to the same complex number object with the same id."
   ]
  },
  {
   "cell_type": "markdown",
   "id": "59e7d767",
   "metadata": {},
   "source": [
    "#### Q 4 Equality Operator\n",
    "#### Take two different complex numbers.\n",
    "#### Store them in two different variables.\n",
    "#### Equate them using equality operators (==, !=)\n",
    "#### Observe the output(return type should be boolean) "
   ]
  },
  {
   "cell_type": "code",
   "execution_count": 6,
   "id": "5e185210",
   "metadata": {
    "scrolled": true
   },
   "outputs": [
    {
     "name": "stdout",
     "output_type": "stream",
     "text": [
      "False\n",
      "True\n"
     ]
    }
   ],
   "source": [
    "a=2+7j\n",
    "b=6+2j\n",
    "print(a==b)\n",
    "print(a!=b)"
   ]
  },
  {
   "cell_type": "markdown",
   "id": "a3727e37",
   "metadata": {},
   "source": [
    "### Q 5 Logical operators\n",
    "Observe the output of below code\n",
    "Cross check the output manually\n",
    "print(10+20j and 20+30j) #20+30j\n",
    "#----------------------------------------->Output is 20+30j\n",
    "print(0+0j and 20+30j) #0+0j\n",
    "#----------------------------------------->Output is 0j\n",
    "print(20+30j and 0+0j) #0+0j\n",
    "#----------------------------------------->Output is 0j\n",
    "print(0+0j and 0+0j) #0+0j\n",
    "#----------------------------------------->Output is 0j\n",
    "print(10+20j or 20+30j) #10+20j\n",
    "#----------------------------------------->Output is 10+20j\n",
    "\n",
    "print(0+0j or 20+30j) #20+30j\n",
    "#----------------------------------------->Output is 20+30j\n",
    "print(20+30j or 0+0j) #20+30j\n",
    "#----------------------------------------->Output is 20+30j\n",
    "print(0+0j or 0+0j) #0+0j\n",
    "#----------------------------------------->Output is 0j\n",
    "print(not 10+20j) #False\n",
    "#----------------------------------------->Output is False\n",
    "print(not 0+0j) #True\n",
    "#----------------------------------------->Output is True"
   ]
  },
  {
   "cell_type": "code",
   "execution_count": 7,
   "id": "e036d11c",
   "metadata": {},
   "outputs": [
    {
     "name": "stdout",
     "output_type": "stream",
     "text": [
      "(20+30j)\n",
      "0j\n",
      "0j\n",
      "0j\n",
      "(10+20j)\n",
      "(20+30j)\n",
      "(20+30j)\n",
      "0j\n",
      "False\n",
      "True\n"
     ]
    }
   ],
   "source": [
    "print(10+20j and 20+30j)\n",
    "print(0+0j and 20+30j)\n",
    "print(20+30j and 0+0j)\n",
    "print(0+0j and 0+0j)\n",
    "print(10+20j or 20+30j)\n",
    "print(0+0j or 20+30j)\n",
    "print(20+30j or 0+0j)\n",
    "print(0+0j or 0+0j)\n",
    "print(not 10+20j)\n",
    "print(not 0+0j)"
   ]
  },
  {
   "cell_type": "markdown",
   "id": "d39ca79f",
   "metadata": {},
   "source": [
    "#### Q 6 What is the output of the expression inside the print statement.\n",
    "Cross check before running the program.\n",
    "a = 10+20j\n",
    "b = 10+20j\n",
    "print(a is b) #False #True or False?\n",
    "print(a is not b) #True #True or False?"
   ]
  },
  {
   "cell_type": "code",
   "execution_count": 8,
   "id": "c9ceb603",
   "metadata": {},
   "outputs": [
    {
     "name": "stdout",
     "output_type": "stream",
     "text": [
      "False\n",
      "True\n"
     ]
    }
   ],
   "source": [
    "a = 10+20j\n",
    "b = 10+20j\n",
    "print(a is b)\n",
    "print(a is not b)"
   ]
  },
  {
   "cell_type": "markdown",
   "id": "9b92dc09",
   "metadata": {},
   "source": [
    "### Q 7 Membership operation\n",
    "in, not in are two membership operators and it returns boolean value\n",
    "print('2.7' in 'Python2.7.8') #True\n",
    "print(10+20j in [10,10.20,10+20j,'Python']) #True\n",
    "print(10+20j in (10,10.20,10+20j,'Python')) #True\n",
    "print(30+40j in {1,20.30,30+40j}) #True\n",
    "print(30+40j in {1:100, 2.3:200, 30+40j:300}) #True\n",
    "print(10 in range(20)) #True"
   ]
  },
  {
   "cell_type": "code",
   "execution_count": 9,
   "id": "c3537276",
   "metadata": {},
   "outputs": [
    {
     "name": "stdout",
     "output_type": "stream",
     "text": [
      "True\n",
      "True\n",
      "True\n",
      "True\n",
      "True\n",
      "True\n"
     ]
    }
   ],
   "source": [
    "print('2.7' in 'Python2.7.8')\n",
    "print(10+20j in [10,10.20,10+20j,'Python'])\n",
    "print(10+20j in (10,10.20,10+20j,'Python'))\n",
    "print(30+40j in {1,20.30,30+40j})\n",
    "print(30+40j in {1:100, 2.3:200, 30+40j:300})\n",
    "print(10 in range(20))\n"
   ]
  },
  {
   "cell_type": "code",
   "execution_count": null,
   "id": "fa58b45d",
   "metadata": {},
   "outputs": [],
   "source": []
  }
 ],
 "metadata": {
  "kernelspec": {
   "display_name": "Python 3 (ipykernel)",
   "language": "python",
   "name": "python3"
  },
  "language_info": {
   "codemirror_mode": {
    "name": "ipython",
    "version": 3
   },
   "file_extension": ".py",
   "mimetype": "text/x-python",
   "name": "python",
   "nbconvert_exporter": "python",
   "pygments_lexer": "ipython3",
   "version": "3.11.4"
  }
 },
 "nbformat": 4,
 "nbformat_minor": 5
}
