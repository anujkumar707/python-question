{
 "cells": [
  {
   "cell_type": "code",
   "execution_count": null,
   "id": "f8f11536",
   "metadata": {},
   "outputs": [],
   "source": [
    "Q1 #Write a Python program to find the sum of all elements in a list using loop.\n",
    "#Input:- [10,20,30,40]\n",
    "#Output:- 100\n",
    "\n"
   ]
  },
  {
   "cell_type": "code",
   "execution_count": 2,
   "id": "62fec815",
   "metadata": {},
   "outputs": [
    {
     "name": "stdout",
     "output_type": "stream",
     "text": [
      "The sum of all elements in the list is: 100\n"
     ]
    }
   ],
   "source": [
    "\n",
    "input_list = [10, 20, 30, 40]\n",
    "\n",
    "\n",
    "total = 0\n",
    "for num in input_list:\n",
    "    total += num\n",
    "print(\"The sum of all elements in the list is:\", total)\n"
   ]
  },
  {
   "cell_type": "code",
   "execution_count": null,
   "id": "881f73ed",
   "metadata": {},
   "outputs": [],
   "source": [
    "Q2 #Write a Python program to find the multiplication of all elements in a list using loop.\n",
    "#Input:- [10,20,30,40]\n",
    "#Output:- 240000\n"
   ]
  },
  {
   "cell_type": "code",
   "execution_count": 3,
   "id": "55a01d86",
   "metadata": {},
   "outputs": [
    {
     "name": "stdout",
     "output_type": "stream",
     "text": [
      "The multiplication of all elements in the list is: 240000\n"
     ]
    }
   ],
   "source": [
    "input_list = [10, 20, 30, 40]\n",
    "\n",
    "product = 1  \n",
    "\n",
    "for num in input_list:\n",
    "    product *= num\n",
    "\n",
    "print(\"The multiplication of all elements in the list is:\", product)\n"
   ]
  },
  {
   "cell_type": "code",
   "execution_count": null,
   "id": "38622754",
   "metadata": {},
   "outputs": [],
   "source": [
    "Q3 #Write a Python program to find the largest number from a list using loop.\n",
    "#Input:- [10,100,2321, 1,200,2]\n",
    "#Output:- 2321"
   ]
  },
  {
   "cell_type": "code",
   "execution_count": 4,
   "id": "7e1485ab",
   "metadata": {},
   "outputs": [
    {
     "name": "stdout",
     "output_type": "stream",
     "text": [
      "The largest number in the list is: 2321\n"
     ]
    }
   ],
   "source": [
    "input_list = [10, 100, 2321, 1, 200, 2]\n",
    "\n",
    "largest = input_list[0]\n",
    "\n",
    "for num in input_list:\n",
    "    if num > largest:\n",
    "        largest = num\n",
    "\n",
    "print(\"The largest number in the list is:\", largest)\n"
   ]
  },
  {
   "cell_type": "code",
   "execution_count": null,
   "id": "f02ddbe1",
   "metadata": {},
   "outputs": [],
   "source": [
    "Q4 #Write a Python program to find the smallest number from a list using loop.\n",
    "#Input:- [10,100,2321, 1,200,2]\n",
    "#Output:- 1\n",
    "\n"
   ]
  },
  {
   "cell_type": "code",
   "execution_count": 8,
   "id": "02ad6f92",
   "metadata": {},
   "outputs": [
    {
     "name": "stdout",
     "output_type": "stream",
     "text": [
      " The smallest number in the list is: 1\n"
     ]
    }
   ],
   "source": [
    "input_list = [10, 100, 2321, 1, 200, 2]\n",
    "\n",
    "smallest = input_list[0]\n",
    "\n",
    "for num in input_list:\n",
    "    if num < smallest:\n",
    "        smallest = num\n",
    "print(\" The smallest number in the list is:\", smallest)"
   ]
  },
  {
   "cell_type": "code",
   "execution_count": null,
   "id": "afb3c227",
   "metadata": {},
   "outputs": [],
   "source": [
    "Q5 #Write a Python program to count the number of strings having length more than 2 and are palindrome in a list using loop.\n",
    "#Input:- ['ab', 'abc', 'aba', 'xyz', '1991']\n",
    "#Output:- 2"
   ]
  },
  {
   "cell_type": "code",
   "execution_count": 9,
   "id": "defbafec",
   "metadata": {},
   "outputs": [
    {
     "name": "stdout",
     "output_type": "stream",
     "text": [
      "The number of strings with a length greater than 2 and are palindromes is: 2\n"
     ]
    }
   ],
   "source": [
    "\n",
    "input_list = ['ab', 'abc', 'aba', 'xyz', '1991']\n",
    "\n",
    "\n",
    "count = 0\n",
    "\n",
    "\n",
    "for string in input_list:\n",
    "    if len(string) > 2 and string == string[::-1]:\n",
    "        count +=1\n",
    "print(\"The number of strings with a length greater than 2 and are palindromes is:\", count)\n"
   ]
  },
  {
   "cell_type": "code",
   "execution_count": null,
   "id": "04f89a85",
   "metadata": {},
   "outputs": [],
   "source": [
    "Q6 #Write a Python program to sort a list in ascending order using loop.\n",
    "#Input:- [100,10,1,298,65,483,49876,2,80,9,9213]\n",
    "#Output:- [1,2,9,10,65,80,100,298,483,9213,49876]\n",
    "\n"
   ]
  },
  {
   "cell_type": "code",
   "execution_count": 10,
   "id": "6072275f",
   "metadata": {},
   "outputs": [
    {
     "name": "stdout",
     "output_type": "stream",
     "text": [
      "Sorted list in ascending order: [1, 2, 9, 10, 65, 80, 100, 298, 483, 9213, 49876]\n"
     ]
    }
   ],
   "source": [
    "\n",
    "input_list = [100, 10, 1, 298, 65, 483, 49876, 2, 80, 9, 9213]\n",
    "\n",
    "n = len(input_list)\n",
    "for i in range(n):\n",
    "    for j in range(0, n - i - 1):\n",
    "        if input_list[j] > input_list[j + 1]:\n",
    "            \n",
    "            input_list[j], input_list[j + 1] = input_list[j + 1], input_list[j]\n",
    "\n",
    "\n",
    "print(\"Sorted list in ascending order:\", input_list)\n"
   ]
  },
  {
   "cell_type": "code",
   "execution_count": null,
   "id": "5243dd66",
   "metadata": {},
   "outputs": [],
   "source": [
    "Q7 #Write a Python program to get a sorted list in increasing order of last element in each tuple in a given list using loop.\n",
    "#Input:- [(5,4),(9,1),(2,3),(5,9),(7,6),(5,5)]\n",
    "#output:- [(9,1),(2,3),(5,4),(5,5),(7,6),(5,9)]\n",
    "\n",
    "\n"
   ]
  },
  {
   "cell_type": "code",
   "execution_count": 11,
   "id": "58520cb7",
   "metadata": {},
   "outputs": [
    {
     "name": "stdout",
     "output_type": "stream",
     "text": [
      "Sorted list in increasing order of the last element in each tuple: [(9, 1), (2, 3), (5, 4), (5, 5), (7, 6), (5, 9)]\n"
     ]
    }
   ],
   "source": [
    "\n",
    "input_list = [(5, 4), (9, 1), (2, 3), (5, 9), (7, 6), (5, 5)]\n",
    "\n",
    "\n",
    "n = len(input_list)\n",
    "for i in range(n):\n",
    "    for j in range(0, n - i - 1):\n",
    "        if input_list[j][-1] > input_list[j + 1][-1]:\n",
    "            \n",
    "            input_list[j], input_list[j + 1] = input_list[j + 1], input_list[j]\n",
    "\n",
    "\n",
    "print(\"Sorted list in increasing order of the last element in each tuple:\", input_list)\n"
   ]
  },
  {
   "cell_type": "code",
   "execution_count": null,
   "id": "a4f0d1a7",
   "metadata": {},
   "outputs": [],
   "source": [
    "Q8 #Write a Python program to remove fuplicate element from a list using loop.\n",
    "#Input:- [10,1,11,1,29,876,768,10,11,1,92,29,876]\n",
    "#Output:- [10,1,11,29,876,768,92]\n"
   ]
  },
  {
   "cell_type": "code",
   "execution_count": 12,
   "id": "eddd5ba9",
   "metadata": {},
   "outputs": [
    {
     "name": "stdout",
     "output_type": "stream",
     "text": [
      "[10, 1, 11, 29, 876, 768, 92]\n"
     ]
    }
   ],
   "source": [
    "def remove_duplicates(input_list):\n",
    "    \n",
    "    unique_list = []\n",
    "    \n",
    "    for item in input_list:\n",
    "        \n",
    "        if item not in unique_list:\n",
    "            unique_list.append(item)\n",
    "    \n",
    "    return unique_list\n",
    "\n",
    "\n",
    "input_list = [10, 1, 11, 1, 29, 876, 768, 10, 11, 1, 92, 29, 876]\n",
    "\n",
    "\n",
    "output_list = remove_duplicates(input_list)\n",
    "\n",
    "\n",
    "print(output_list)\n"
   ]
  },
  {
   "cell_type": "code",
   "execution_count": null,
   "id": "879f4499",
   "metadata": {},
   "outputs": [],
   "source": [
    "Q9 #Write a Python program to check a list is empty or not?\n",
    "#Input:- []\n",
    "#Output:- List is empty\n",
    "#Input:- [10,20,30]\n",
    "#Output:- List is not empty\n",
    "\n"
   ]
  },
  {
   "cell_type": "code",
   "execution_count": 13,
   "id": "0ee488a7",
   "metadata": {},
   "outputs": [
    {
     "name": "stdout",
     "output_type": "stream",
     "text": [
      "List is empty\n",
      "List is not empty\n"
     ]
    }
   ],
   "source": [
    "def is_empty(input_list):\n",
    "    if not input_list:\n",
    "        print(\"List is empty\")\n",
    "    else:\n",
    "        print(\"List is not empty\")\n",
    "\n",
    "\n",
    "input_list1 = []\n",
    "input_list2 = [10, 20, 30]\n",
    "\n",
    "\n",
    "is_empty(input_list1)\n",
    "is_empty(input_list2)\n"
   ]
  },
  {
   "cell_type": "code",
   "execution_count": null,
   "id": "834ad18c",
   "metadata": {},
   "outputs": [],
   "source": [
    "Q10 #Write a Python program to copy a list using loop.\n",
    "#inp_lst = [10,10.20,10+20j, 'Python', [10,20], (10,20)]\n",
    "#out_lst = [10,10.20,10+20j, 'Python', [10,20], (10,20)]\n",
    "\n",
    "\n"
   ]
  },
  {
   "cell_type": "code",
   "execution_count": 14,
   "id": "4bc9c3a6",
   "metadata": {},
   "outputs": [
    {
     "name": "stdout",
     "output_type": "stream",
     "text": [
      "[10, 10.2, (10+20j), 'Python', [10, 20], (10, 20)]\n"
     ]
    }
   ],
   "source": [
    "inp_lst = [10, 10.20, 10 + 20j, 'Python', [10, 20], (10, 20)]\n",
    "\n",
    "out_lst = []  \n",
    "\n",
    "for item in inp_lst:\n",
    "    out_lst.append(item)\n",
    "\n",
    "print(out_lst)\n"
   ]
  },
  {
   "cell_type": "code",
   "execution_count": null,
   "id": "a48caed1",
   "metadata": {},
   "outputs": [],
   "source": [
    "Q11 #Write a Python program to find the list of words that are longer than or equal to 4 from a given string.\n",
    "#Input:- 'How much wood would a woodchuck chuck if a woodchuck could chuck wood'\n",
    "#Output:- ['much', 'wood', 'would', 'woodchuck', 'chuck', 'could']\n",
    "#Note:- Duplicate should be avoided.\n",
    "\n"
   ]
  },
  {
   "cell_type": "code",
   "execution_count": 15,
   "id": "9c195199",
   "metadata": {},
   "outputs": [
    {
     "name": "stdout",
     "output_type": "stream",
     "text": [
      "['much', 'wood', 'would', 'woodchuck', 'chuck', 'could']\n"
     ]
    }
   ],
   "source": [
    "input_string = 'How much wood would a woodchuck chuck if a woodchuck could chuck wood'\n",
    "\n",
    "\n",
    "words = input_string.split()\n",
    "\n",
    "\n",
    "result = []\n",
    "\n",
    "for word in words:\n",
    "    \n",
    "    cleaned_word = word.strip('.,?!').lower()\n",
    "    \n",
    "    # \n",
    "    if len(cleaned_word) >= 4 and cleaned_word not in result:\n",
    "        result.append(cleaned_word)\n",
    "\n",
    "print(result)\n"
   ]
  },
  {
   "cell_type": "code",
   "execution_count": null,
   "id": "73be3ad9",
   "metadata": {},
   "outputs": [],
   "source": [
    "Q12 #Write a Python program which takes two list as input and returns True if they have at least 3 common elements.\n",
    "#inp_lst1 = [10,20,'Python', 10.20, 10+20j, [10,20,30], (10,20,30)]\n",
    "#inp_lst2 = [(10,20,30),1,20+3j,100.2, 10+20j, [10,20,30],'Python']\n",
    "#Output:- True\n",
    "\n"
   ]
  },
  {
   "cell_type": "code",
   "execution_count": 30,
   "id": "8871151d",
   "metadata": {},
   "outputs": [
    {
     "name": "stdout",
     "output_type": "stream",
     "text": [
      "True\n"
     ]
    }
   ],
   "source": [
    "inp_lst1 = [10, 20, 'Python', 10.20, 10+20j, [10, 20, 30], (10, 20, 30)]\n",
    "inp_lst2 = [(10, 20, 30), 1, 20+3j, 100.2, 10+20j, [10, 20, 30], 'Python']\n",
    "\n",
    "\n",
    "common_count = 0\n",
    "\n",
    "\n",
    "for item1 in inp_lst1:\n",
    "    \n",
    "    for item2 in inp_lst2:\n",
    "        \n",
    "        if item1 == item2:\n",
    "            common_count += 1\n",
    "\n",
    "            if common_count >= 3:\n",
    "                break\n",
    "\n",
    "\n",
    "if common_count >= 3:\n",
    "    print(True)\n",
    "else:\n",
    "    print(False)\n"
   ]
  },
  {
   "cell_type": "code",
   "execution_count": null,
   "id": "f90406e8",
   "metadata": {},
   "outputs": [],
   "source": [
    "Q13 Write a Python program to create a 4X4 2D matrix with below elements using loop and list comprehension both.\n",
    "#Output:- [[0,0,0,0],[0,1,2,3],[0,2,4,6],[0,3,6,9]]\n",
    "\n",
    "\n"
   ]
  },
  {
   "cell_type": "code",
   "execution_count": 24,
   "id": "8bcd5e7e",
   "metadata": {},
   "outputs": [
    {
     "name": "stdout",
     "output_type": "stream",
     "text": [
      "[[0, 0, 0, 0], [0, 1, 2, 3], [0, 2, 4, 6], [0, 3, 6, 9]]\n"
     ]
    }
   ],
   "source": [
    "matrix = []\n",
    "for i in range(4):\n",
    "    row = []\n",
    "    for j in range(4):\n",
    "        row.append(i * j)\n",
    "    matrix.append(row)\n",
    "\n",
    "\n",
    "matrix = [[i * j for j in range(4)] for i in range(4)]\n",
    "\n",
    "print(matrix)\n",
    "\n"
   ]
  },
  {
   "cell_type": "code",
   "execution_count": null,
   "id": "e2b904f7",
   "metadata": {},
   "outputs": [],
   "source": [
    "Q14 #Write a Python program to create a 3X4X6 3D matrix wiith below elements using loop\n",
    "#Output:- \n",
    "# [\n",
    "#     [[0,0,0,0,0,0],[0,0,0,0,0,0],[0,0,0,0,0,0],[0,0,0,0,0,0]],\n",
    "#     [[0,0,0,0,0,0],[1,1,1,1,1,1],[2,2,2,2,2,2],[3,3,3,3,3,3]],\n",
    "#     [[0,0,0,0,0,0],[2,2,2,2,2,2],[4,4,4,4,4,4],[6,6,6,6,6,6]]\n",
    "# ]\n",
    "\n",
    "\n"
   ]
  },
  {
   "cell_type": "code",
   "execution_count": 25,
   "id": "8cfc34c2",
   "metadata": {},
   "outputs": [
    {
     "name": "stdout",
     "output_type": "stream",
     "text": [
      "[[0, 0, 0, 0, 0, 0], [0, 0, 0, 0, 0, 0], [0, 0, 0, 0, 0, 0], [0, 0, 0, 0, 0, 0]]\n",
      "[[0, 0, 0, 0, 0, 0], [1, 1, 1, 1, 1, 1], [2, 2, 2, 2, 2, 2], [3, 3, 3, 3, 3, 3]]\n",
      "[[0, 0, 0, 0, 0, 0], [2, 2, 2, 2, 2, 2], [4, 4, 4, 4, 4, 4], [6, 6, 6, 6, 6, 6]]\n"
     ]
    }
   ],
   "source": [
    "# Define the dimensions of the 3D matrix\n",
    "depth = 3\n",
    "rows = 4\n",
    "cols = 6\n",
    "\n",
    "# Create a 3D matrix using loops\n",
    "matrix_3d = []\n",
    "for i in range(depth):\n",
    "    matrix_2d = []\n",
    "    for j in range(rows):\n",
    "        row = []\n",
    "        for k in range(cols):\n",
    "            row.append(i * j)\n",
    "        matrix_2d.append(row)\n",
    "    matrix_3d.append(matrix_2d)\n",
    "\n",
    "# Print the 3D matrix\n",
    "for i in range(depth):\n",
    "    print(matrix_3d[i])\n"
   ]
  },
  {
   "cell_type": "code",
   "execution_count": null,
   "id": "4b3dc8d3",
   "metadata": {},
   "outputs": [],
   "source": [
    "Q15 #Write a Python program which takes a list of numbers as input and prints a new list after removing even numbers from it.\n",
    "#Input:- [10,21,22,98,87,45,33,1,2,100]\n",
    "#Output:- [21,87,45,33,1]\n",
    "\n"
   ]
  },
  {
   "cell_type": "code",
   "execution_count": 26,
   "id": "c5d93332",
   "metadata": {},
   "outputs": [
    {
     "name": "stdout",
     "output_type": "stream",
     "text": [
      "[21, 87, 45, 33, 1]\n"
     ]
    }
   ],
   "source": [
    "input_list = [10, 21, 22, 98, 87, 45, 33, 1, 2, 100]\n",
    "\n",
    "\n",
    "output_list = [x for x in input_list if x % 2 != 0]\n",
    "\n",
    "print(output_list)\n"
   ]
  },
  {
   "cell_type": "code",
   "execution_count": null,
   "id": "e3a13e45",
   "metadata": {},
   "outputs": [],
   "source": [
    "Q16 #Write a Python program which takes a list from the user and prints it after reshuffling the elements of the list.\n",
    "#Input:- [10,21,22,98,87,45,33,1,2,100]\n",
    "#Output:- [1,87,21,10,33,2,100,45,98,22] (It may be any randon list but with same elements)\n",
    "\n"
   ]
  },
  {
   "cell_type": "code",
   "execution_count": 28,
   "id": "c639b9f9",
   "metadata": {},
   "outputs": [
    {
     "name": "stdout",
     "output_type": "stream",
     "text": [
      "[10, 98, 33, 45, 100, 1, 22, 21, 87, 2]\n"
     ]
    }
   ],
   "source": [
    "import random\n",
    "\n",
    "input_list = [10, 21, 22, 98, 87, 45, 33, 1, 2, 100]\n",
    "\n",
    "# Shuffle the elements of the input list\n",
    "random.shuffle(input_list)\n",
    "\n",
    "print(input_list)\n"
   ]
  },
  {
   "cell_type": "code",
   "execution_count": null,
   "id": "0fb4a4b5",
   "metadata": {},
   "outputs": [],
   "source": []
  }
 ],
 "metadata": {
  "kernelspec": {
   "display_name": "Python 3 (ipykernel)",
   "language": "python",
   "name": "python3"
  },
  "language_info": {
   "codemirror_mode": {
    "name": "ipython",
    "version": 3
   },
   "file_extension": ".py",
   "mimetype": "text/x-python",
   "name": "python",
   "nbconvert_exporter": "python",
   "pygments_lexer": "ipython3",
   "version": "3.11.4"
  }
 },
 "nbformat": 4,
 "nbformat_minor": 5
}
